{
 "cells": [
  {
   "cell_type": "markdown",
   "id": "20c554e9",
   "metadata": {
    "papermill": {
     "duration": 0.019509,
     "end_time": "2024-01-08T12:20:48.204339",
     "exception": false,
     "start_time": "2024-01-08T12:20:48.184830",
     "status": "completed"
    },
    "tags": []
   },
   "source": [
    "#### this notebook i did a while ago, but still effective one i hope it's will a good for you "
   ]
  },
  {
   "cell_type": "code",
   "execution_count": 63,
   "id": "b8939e53",
   "metadata": {
    "_cell_guid": "b1076dfc-b9ad-4769-8c92-a6c4dae69d19",
    "_uuid": "8f2839f25d086af736a60e9eeb907d3b93b6e0e5",
    "execution": {
     "iopub.execute_input": "2024-01-08T12:20:48.244455Z",
     "iopub.status.busy": "2024-01-08T12:20:48.243678Z",
     "iopub.status.idle": "2024-01-08T12:20:48.695936Z",
     "shell.execute_reply": "2024-01-08T12:20:48.694719Z"
    },
    "papermill": {
     "duration": 0.475615,
     "end_time": "2024-01-08T12:20:48.698960",
     "exception": false,
     "start_time": "2024-01-08T12:20:48.223345",
     "status": "completed"
    },
    "tags": []
   },
   "outputs": [],
   "source": [
    "import pandas as pd\n",
    "import numpy as np"
   ]
  },
  {
   "cell_type": "code",
   "execution_count": 64,
   "id": "08dadc7d",
   "metadata": {
    "execution": {
     "iopub.execute_input": "2024-01-08T12:20:48.741516Z",
     "iopub.status.busy": "2024-01-08T12:20:48.740506Z",
     "iopub.status.idle": "2024-01-08T12:20:48.795700Z",
     "shell.execute_reply": "2024-01-08T12:20:48.794277Z"
    },
    "papermill": {
     "duration": 0.079638,
     "end_time": "2024-01-08T12:20:48.799437",
     "exception": false,
     "start_time": "2024-01-08T12:20:48.719799",
     "status": "completed"
    },
    "tags": []
   },
   "outputs": [],
   "source": [
    "df = pd.read_csv('./water_potability.csv')\n",
    "df_new = pd.read_csv('./water_potability.csv')"
   ]
  },
  {
   "cell_type": "code",
   "execution_count": 65,
   "id": "eddf5d3d",
   "metadata": {
    "execution": {
     "iopub.execute_input": "2024-01-08T12:20:48.839672Z",
     "iopub.status.busy": "2024-01-08T12:20:48.839271Z",
     "iopub.status.idle": "2024-01-08T12:20:48.856040Z",
     "shell.execute_reply": "2024-01-08T12:20:48.854848Z"
    },
    "papermill": {
     "duration": 0.039938,
     "end_time": "2024-01-08T12:20:48.858628",
     "exception": false,
     "start_time": "2024-01-08T12:20:48.818690",
     "status": "completed"
    },
    "tags": []
   },
   "outputs": [
    {
     "data": {
      "text/plain": [
       "ph                 491\n",
       "Hardness             0\n",
       "Solids               0\n",
       "Chloramines          0\n",
       "Sulfate            781\n",
       "Conductivity         0\n",
       "Organic_carbon       0\n",
       "Trihalomethanes    162\n",
       "Turbidity            0\n",
       "Potability           0\n",
       "dtype: int64"
      ]
     },
     "execution_count": 65,
     "metadata": {},
     "output_type": "execute_result"
    }
   ],
   "source": [
    "df.isnull().sum()"
   ]
  },
  {
   "cell_type": "code",
   "execution_count": 66,
   "id": "952cf5ef",
   "metadata": {
    "execution": {
     "iopub.execute_input": "2024-01-08T12:20:48.901450Z",
     "iopub.status.busy": "2024-01-08T12:20:48.900596Z",
     "iopub.status.idle": "2024-01-08T12:20:48.926470Z",
     "shell.execute_reply": "2024-01-08T12:20:48.925213Z"
    },
    "papermill": {
     "duration": 0.05054,
     "end_time": "2024-01-08T12:20:48.929153",
     "exception": false,
     "start_time": "2024-01-08T12:20:48.878613",
     "status": "completed"
    },
    "tags": []
   },
   "outputs": [
    {
     "data": {
      "text/html": [
       "<div>\n",
       "<style scoped>\n",
       "    .dataframe tbody tr th:only-of-type {\n",
       "        vertical-align: middle;\n",
       "    }\n",
       "\n",
       "    .dataframe tbody tr th {\n",
       "        vertical-align: top;\n",
       "    }\n",
       "\n",
       "    .dataframe thead th {\n",
       "        text-align: right;\n",
       "    }\n",
       "</style>\n",
       "<table border=\"1\" class=\"dataframe\">\n",
       "  <thead>\n",
       "    <tr style=\"text-align: right;\">\n",
       "      <th></th>\n",
       "      <th>ph</th>\n",
       "      <th>Hardness</th>\n",
       "      <th>Solids</th>\n",
       "      <th>Chloramines</th>\n",
       "      <th>Sulfate</th>\n",
       "      <th>Conductivity</th>\n",
       "      <th>Organic_carbon</th>\n",
       "      <th>Trihalomethanes</th>\n",
       "      <th>Turbidity</th>\n",
       "      <th>Potability</th>\n",
       "    </tr>\n",
       "  </thead>\n",
       "  <tbody>\n",
       "    <tr>\n",
       "      <th>0</th>\n",
       "      <td>NaN</td>\n",
       "      <td>204.890455</td>\n",
       "      <td>20791.318981</td>\n",
       "      <td>7.300212</td>\n",
       "      <td>368.516441</td>\n",
       "      <td>564.308654</td>\n",
       "      <td>10.379783</td>\n",
       "      <td>86.990970</td>\n",
       "      <td>2.963135</td>\n",
       "      <td>0</td>\n",
       "    </tr>\n",
       "    <tr>\n",
       "      <th>1</th>\n",
       "      <td>3.716080</td>\n",
       "      <td>129.422921</td>\n",
       "      <td>18630.057858</td>\n",
       "      <td>6.635246</td>\n",
       "      <td>NaN</td>\n",
       "      <td>592.885359</td>\n",
       "      <td>15.180013</td>\n",
       "      <td>56.329076</td>\n",
       "      <td>4.500656</td>\n",
       "      <td>0</td>\n",
       "    </tr>\n",
       "    <tr>\n",
       "      <th>2</th>\n",
       "      <td>8.099124</td>\n",
       "      <td>224.236259</td>\n",
       "      <td>19909.541732</td>\n",
       "      <td>9.275884</td>\n",
       "      <td>NaN</td>\n",
       "      <td>418.606213</td>\n",
       "      <td>16.868637</td>\n",
       "      <td>66.420093</td>\n",
       "      <td>3.055934</td>\n",
       "      <td>0</td>\n",
       "    </tr>\n",
       "    <tr>\n",
       "      <th>3</th>\n",
       "      <td>8.316766</td>\n",
       "      <td>214.373394</td>\n",
       "      <td>22018.417441</td>\n",
       "      <td>8.059332</td>\n",
       "      <td>356.886136</td>\n",
       "      <td>363.266516</td>\n",
       "      <td>18.436524</td>\n",
       "      <td>100.341674</td>\n",
       "      <td>4.628771</td>\n",
       "      <td>0</td>\n",
       "    </tr>\n",
       "    <tr>\n",
       "      <th>4</th>\n",
       "      <td>9.092223</td>\n",
       "      <td>181.101509</td>\n",
       "      <td>17978.986339</td>\n",
       "      <td>6.546600</td>\n",
       "      <td>310.135738</td>\n",
       "      <td>398.410813</td>\n",
       "      <td>11.558279</td>\n",
       "      <td>31.997993</td>\n",
       "      <td>4.075075</td>\n",
       "      <td>0</td>\n",
       "    </tr>\n",
       "  </tbody>\n",
       "</table>\n",
       "</div>"
      ],
      "text/plain": [
       "         ph    Hardness        Solids  Chloramines     Sulfate  Conductivity  \\\n",
       "0       NaN  204.890455  20791.318981     7.300212  368.516441    564.308654   \n",
       "1  3.716080  129.422921  18630.057858     6.635246         NaN    592.885359   \n",
       "2  8.099124  224.236259  19909.541732     9.275884         NaN    418.606213   \n",
       "3  8.316766  214.373394  22018.417441     8.059332  356.886136    363.266516   \n",
       "4  9.092223  181.101509  17978.986339     6.546600  310.135738    398.410813   \n",
       "\n",
       "   Organic_carbon  Trihalomethanes  Turbidity  Potability  \n",
       "0       10.379783        86.990970   2.963135           0  \n",
       "1       15.180013        56.329076   4.500656           0  \n",
       "2       16.868637        66.420093   3.055934           0  \n",
       "3       18.436524       100.341674   4.628771           0  \n",
       "4       11.558279        31.997993   4.075075           0  "
      ]
     },
     "execution_count": 66,
     "metadata": {},
     "output_type": "execute_result"
    }
   ],
   "source": [
    "df.head()"
   ]
  },
  {
   "cell_type": "code",
   "execution_count": 67,
   "id": "8fbe1a01",
   "metadata": {
    "execution": {
     "iopub.execute_input": "2024-01-08T12:20:48.971009Z",
     "iopub.status.busy": "2024-01-08T12:20:48.970155Z",
     "iopub.status.idle": "2024-01-08T12:20:48.977869Z",
     "shell.execute_reply": "2024-01-08T12:20:48.976767Z"
    },
    "papermill": {
     "duration": 0.031724,
     "end_time": "2024-01-08T12:20:48.980331",
     "exception": false,
     "start_time": "2024-01-08T12:20:48.948607",
     "status": "completed"
    },
    "tags": []
   },
   "outputs": [
    {
     "data": {
      "text/plain": [
       "(3276, 10)"
      ]
     },
     "execution_count": 67,
     "metadata": {},
     "output_type": "execute_result"
    }
   ],
   "source": [
    "df.shape"
   ]
  },
  {
   "cell_type": "code",
   "execution_count": 68,
   "id": "7a900093",
   "metadata": {
    "execution": {
     "iopub.execute_input": "2024-01-08T12:20:49.021709Z",
     "iopub.status.busy": "2024-01-08T12:20:49.021302Z",
     "iopub.status.idle": "2024-01-08T12:20:49.050106Z",
     "shell.execute_reply": "2024-01-08T12:20:49.048455Z"
    },
    "papermill": {
     "duration": 0.053405,
     "end_time": "2024-01-08T12:20:49.053442",
     "exception": false,
     "start_time": "2024-01-08T12:20:49.000037",
     "status": "completed"
    },
    "tags": []
   },
   "outputs": [
    {
     "name": "stdout",
     "output_type": "stream",
     "text": [
      "<class 'pandas.core.frame.DataFrame'>\n",
      "RangeIndex: 3276 entries, 0 to 3275\n",
      "Data columns (total 10 columns):\n",
      " #   Column           Non-Null Count  Dtype  \n",
      "---  ------           --------------  -----  \n",
      " 0   ph               2785 non-null   float64\n",
      " 1   Hardness         3276 non-null   float64\n",
      " 2   Solids           3276 non-null   float64\n",
      " 3   Chloramines      3276 non-null   float64\n",
      " 4   Sulfate          2495 non-null   float64\n",
      " 5   Conductivity     3276 non-null   float64\n",
      " 6   Organic_carbon   3276 non-null   float64\n",
      " 7   Trihalomethanes  3114 non-null   float64\n",
      " 8   Turbidity        3276 non-null   float64\n",
      " 9   Potability       3276 non-null   int64  \n",
      "dtypes: float64(9), int64(1)\n",
      "memory usage: 256.1 KB\n"
     ]
    }
   ],
   "source": [
    "df.info()"
   ]
  },
  {
   "cell_type": "code",
   "execution_count": 69,
   "id": "9c2e0d65",
   "metadata": {
    "execution": {
     "iopub.execute_input": "2024-01-08T12:20:49.096709Z",
     "iopub.status.busy": "2024-01-08T12:20:49.096213Z",
     "iopub.status.idle": "2024-01-08T12:20:49.145385Z",
     "shell.execute_reply": "2024-01-08T12:20:49.144142Z"
    },
    "papermill": {
     "duration": 0.07421,
     "end_time": "2024-01-08T12:20:49.148132",
     "exception": false,
     "start_time": "2024-01-08T12:20:49.073922",
     "status": "completed"
    },
    "tags": []
   },
   "outputs": [
    {
     "data": {
      "text/html": [
       "<div>\n",
       "<style scoped>\n",
       "    .dataframe tbody tr th:only-of-type {\n",
       "        vertical-align: middle;\n",
       "    }\n",
       "\n",
       "    .dataframe tbody tr th {\n",
       "        vertical-align: top;\n",
       "    }\n",
       "\n",
       "    .dataframe thead th {\n",
       "        text-align: right;\n",
       "    }\n",
       "</style>\n",
       "<table border=\"1\" class=\"dataframe\">\n",
       "  <thead>\n",
       "    <tr style=\"text-align: right;\">\n",
       "      <th></th>\n",
       "      <th>count</th>\n",
       "      <th>mean</th>\n",
       "      <th>std</th>\n",
       "      <th>min</th>\n",
       "      <th>25%</th>\n",
       "      <th>50%</th>\n",
       "      <th>75%</th>\n",
       "      <th>max</th>\n",
       "    </tr>\n",
       "  </thead>\n",
       "  <tbody>\n",
       "    <tr>\n",
       "      <th>ph</th>\n",
       "      <td>2785.0</td>\n",
       "      <td>7.080795</td>\n",
       "      <td>1.594320</td>\n",
       "      <td>0.000000</td>\n",
       "      <td>6.093092</td>\n",
       "      <td>7.036752</td>\n",
       "      <td>8.062066</td>\n",
       "      <td>14.000000</td>\n",
       "    </tr>\n",
       "    <tr>\n",
       "      <th>Hardness</th>\n",
       "      <td>3276.0</td>\n",
       "      <td>196.369496</td>\n",
       "      <td>32.879761</td>\n",
       "      <td>47.432000</td>\n",
       "      <td>176.850538</td>\n",
       "      <td>196.967627</td>\n",
       "      <td>216.667456</td>\n",
       "      <td>323.124000</td>\n",
       "    </tr>\n",
       "    <tr>\n",
       "      <th>Solids</th>\n",
       "      <td>3276.0</td>\n",
       "      <td>22014.092526</td>\n",
       "      <td>8768.570828</td>\n",
       "      <td>320.942611</td>\n",
       "      <td>15666.690297</td>\n",
       "      <td>20927.833607</td>\n",
       "      <td>27332.762127</td>\n",
       "      <td>61227.196008</td>\n",
       "    </tr>\n",
       "    <tr>\n",
       "      <th>Chloramines</th>\n",
       "      <td>3276.0</td>\n",
       "      <td>7.122277</td>\n",
       "      <td>1.583085</td>\n",
       "      <td>0.352000</td>\n",
       "      <td>6.127421</td>\n",
       "      <td>7.130299</td>\n",
       "      <td>8.114887</td>\n",
       "      <td>13.127000</td>\n",
       "    </tr>\n",
       "    <tr>\n",
       "      <th>Sulfate</th>\n",
       "      <td>2495.0</td>\n",
       "      <td>333.775777</td>\n",
       "      <td>41.416840</td>\n",
       "      <td>129.000000</td>\n",
       "      <td>307.699498</td>\n",
       "      <td>333.073546</td>\n",
       "      <td>359.950170</td>\n",
       "      <td>481.030642</td>\n",
       "    </tr>\n",
       "    <tr>\n",
       "      <th>Conductivity</th>\n",
       "      <td>3276.0</td>\n",
       "      <td>426.205111</td>\n",
       "      <td>80.824064</td>\n",
       "      <td>181.483754</td>\n",
       "      <td>365.734414</td>\n",
       "      <td>421.884968</td>\n",
       "      <td>481.792304</td>\n",
       "      <td>753.342620</td>\n",
       "    </tr>\n",
       "    <tr>\n",
       "      <th>Organic_carbon</th>\n",
       "      <td>3276.0</td>\n",
       "      <td>14.284970</td>\n",
       "      <td>3.308162</td>\n",
       "      <td>2.200000</td>\n",
       "      <td>12.065801</td>\n",
       "      <td>14.218338</td>\n",
       "      <td>16.557652</td>\n",
       "      <td>28.300000</td>\n",
       "    </tr>\n",
       "    <tr>\n",
       "      <th>Trihalomethanes</th>\n",
       "      <td>3114.0</td>\n",
       "      <td>66.396293</td>\n",
       "      <td>16.175008</td>\n",
       "      <td>0.738000</td>\n",
       "      <td>55.844536</td>\n",
       "      <td>66.622485</td>\n",
       "      <td>77.337473</td>\n",
       "      <td>124.000000</td>\n",
       "    </tr>\n",
       "    <tr>\n",
       "      <th>Turbidity</th>\n",
       "      <td>3276.0</td>\n",
       "      <td>3.966786</td>\n",
       "      <td>0.780382</td>\n",
       "      <td>1.450000</td>\n",
       "      <td>3.439711</td>\n",
       "      <td>3.955028</td>\n",
       "      <td>4.500320</td>\n",
       "      <td>6.739000</td>\n",
       "    </tr>\n",
       "    <tr>\n",
       "      <th>Potability</th>\n",
       "      <td>3276.0</td>\n",
       "      <td>0.390110</td>\n",
       "      <td>0.487849</td>\n",
       "      <td>0.000000</td>\n",
       "      <td>0.000000</td>\n",
       "      <td>0.000000</td>\n",
       "      <td>1.000000</td>\n",
       "      <td>1.000000</td>\n",
       "    </tr>\n",
       "  </tbody>\n",
       "</table>\n",
       "</div>"
      ],
      "text/plain": [
       "                  count          mean          std         min           25%  \\\n",
       "ph               2785.0      7.080795     1.594320    0.000000      6.093092   \n",
       "Hardness         3276.0    196.369496    32.879761   47.432000    176.850538   \n",
       "Solids           3276.0  22014.092526  8768.570828  320.942611  15666.690297   \n",
       "Chloramines      3276.0      7.122277     1.583085    0.352000      6.127421   \n",
       "Sulfate          2495.0    333.775777    41.416840  129.000000    307.699498   \n",
       "Conductivity     3276.0    426.205111    80.824064  181.483754    365.734414   \n",
       "Organic_carbon   3276.0     14.284970     3.308162    2.200000     12.065801   \n",
       "Trihalomethanes  3114.0     66.396293    16.175008    0.738000     55.844536   \n",
       "Turbidity        3276.0      3.966786     0.780382    1.450000      3.439711   \n",
       "Potability       3276.0      0.390110     0.487849    0.000000      0.000000   \n",
       "\n",
       "                          50%           75%           max  \n",
       "ph                   7.036752      8.062066     14.000000  \n",
       "Hardness           196.967627    216.667456    323.124000  \n",
       "Solids           20927.833607  27332.762127  61227.196008  \n",
       "Chloramines          7.130299      8.114887     13.127000  \n",
       "Sulfate            333.073546    359.950170    481.030642  \n",
       "Conductivity       421.884968    481.792304    753.342620  \n",
       "Organic_carbon      14.218338     16.557652     28.300000  \n",
       "Trihalomethanes     66.622485     77.337473    124.000000  \n",
       "Turbidity            3.955028      4.500320      6.739000  \n",
       "Potability           0.000000      1.000000      1.000000  "
      ]
     },
     "execution_count": 69,
     "metadata": {},
     "output_type": "execute_result"
    }
   ],
   "source": [
    "df.describe().T"
   ]
  },
  {
   "cell_type": "code",
   "execution_count": 70,
   "id": "ca7ba83b",
   "metadata": {
    "execution": {
     "iopub.execute_input": "2024-01-08T12:20:49.190571Z",
     "iopub.status.busy": "2024-01-08T12:20:49.190108Z",
     "iopub.status.idle": "2024-01-08T12:20:49.200866Z",
     "shell.execute_reply": "2024-01-08T12:20:49.199476Z"
    },
    "papermill": {
     "duration": 0.03523,
     "end_time": "2024-01-08T12:20:49.203540",
     "exception": false,
     "start_time": "2024-01-08T12:20:49.168310",
     "status": "completed"
    },
    "tags": []
   },
   "outputs": [
    {
     "data": {
      "text/plain": [
       "Potability\n",
       "0    1998\n",
       "1    1278\n",
       "Name: count, dtype: int64"
      ]
     },
     "execution_count": 70,
     "metadata": {},
     "output_type": "execute_result"
    }
   ],
   "source": [
    "df.Potability.value_counts()"
   ]
  },
  {
   "cell_type": "code",
   "execution_count": 71,
   "id": "49c72333",
   "metadata": {
    "execution": {
     "iopub.execute_input": "2024-01-08T12:20:49.246406Z",
     "iopub.status.busy": "2024-01-08T12:20:49.245302Z",
     "iopub.status.idle": "2024-01-08T12:20:49.259365Z",
     "shell.execute_reply": "2024-01-08T12:20:49.258212Z"
    },
    "papermill": {
     "duration": 0.038176,
     "end_time": "2024-01-08T12:20:49.261893",
     "exception": false,
     "start_time": "2024-01-08T12:20:49.223717",
     "status": "completed"
    },
    "tags": []
   },
   "outputs": [
    {
     "data": {
      "text/plain": [
       "0"
      ]
     },
     "execution_count": 71,
     "metadata": {},
     "output_type": "execute_result"
    }
   ],
   "source": [
    "df.duplicated().sum()"
   ]
  },
  {
   "cell_type": "code",
   "execution_count": 72,
   "id": "5d1adade",
   "metadata": {
    "execution": {
     "iopub.execute_input": "2024-01-08T12:20:49.305475Z",
     "iopub.status.busy": "2024-01-08T12:20:49.304161Z",
     "iopub.status.idle": "2024-01-08T12:20:49.314738Z",
     "shell.execute_reply": "2024-01-08T12:20:49.313361Z"
    },
    "papermill": {
     "duration": 0.035174,
     "end_time": "2024-01-08T12:20:49.317191",
     "exception": false,
     "start_time": "2024-01-08T12:20:49.282017",
     "status": "completed"
    },
    "tags": []
   },
   "outputs": [
    {
     "data": {
      "text/plain": [
       "ph                 491\n",
       "Hardness             0\n",
       "Solids               0\n",
       "Chloramines          0\n",
       "Sulfate            781\n",
       "Conductivity         0\n",
       "Organic_carbon       0\n",
       "Trihalomethanes    162\n",
       "Turbidity            0\n",
       "Potability           0\n",
       "dtype: int64"
      ]
     },
     "execution_count": 72,
     "metadata": {},
     "output_type": "execute_result"
    }
   ],
   "source": [
    "df.isnull().sum()"
   ]
  },
  {
   "cell_type": "code",
   "execution_count": 73,
   "id": "9ef38998",
   "metadata": {
    "execution": {
     "iopub.execute_input": "2024-01-08T12:20:49.428540Z",
     "iopub.status.busy": "2024-01-08T12:20:49.428087Z",
     "iopub.status.idle": "2024-01-08T12:20:49.432720Z",
     "shell.execute_reply": "2024-01-08T12:20:49.431678Z"
    },
    "papermill": {
     "duration": 0.029937,
     "end_time": "2024-01-08T12:20:49.435054",
     "exception": false,
     "start_time": "2024-01-08T12:20:49.405117",
     "status": "completed"
    },
    "tags": []
   },
   "outputs": [],
   "source": [
    "# df.dropna(inplace=True)"
   ]
  },
  {
   "cell_type": "code",
   "execution_count": 74,
   "id": "1dbe2fb5",
   "metadata": {
    "execution": {
     "iopub.execute_input": "2024-01-08T12:20:49.478898Z",
     "iopub.status.busy": "2024-01-08T12:20:49.478452Z",
     "iopub.status.idle": "2024-01-08T12:20:49.484649Z",
     "shell.execute_reply": "2024-01-08T12:20:49.483685Z"
    },
    "papermill": {
     "duration": 0.031413,
     "end_time": "2024-01-08T12:20:49.487181",
     "exception": false,
     "start_time": "2024-01-08T12:20:49.455768",
     "status": "completed"
    },
    "tags": []
   },
   "outputs": [],
   "source": [
    "d = dict(df.isnull().sum())"
   ]
  },
  {
   "cell_type": "code",
   "execution_count": 75,
   "id": "9b58ff25",
   "metadata": {
    "execution": {
     "iopub.execute_input": "2024-01-08T12:20:49.530666Z",
     "iopub.status.busy": "2024-01-08T12:20:49.530230Z",
     "iopub.status.idle": "2024-01-08T12:20:49.536502Z",
     "shell.execute_reply": "2024-01-08T12:20:49.535356Z"
    },
    "papermill": {
     "duration": 0.030927,
     "end_time": "2024-01-08T12:20:49.538955",
     "exception": false,
     "start_time": "2024-01-08T12:20:49.508028",
     "status": "completed"
    },
    "tags": []
   },
   "outputs": [],
   "source": [
    "def find_miss(d):\n",
    "    l = []\n",
    "    for column in d:\n",
    "        if d[column]>0:\n",
    "            l.append(column)\n",
    "    return l"
   ]
  },
  {
   "cell_type": "code",
   "execution_count": 76,
   "id": "dda5102e",
   "metadata": {
    "execution": {
     "iopub.execute_input": "2024-01-08T12:20:49.582216Z",
     "iopub.status.busy": "2024-01-08T12:20:49.581744Z",
     "iopub.status.idle": "2024-01-08T12:20:49.588706Z",
     "shell.execute_reply": "2024-01-08T12:20:49.587862Z"
    },
    "papermill": {
     "duration": 0.031499,
     "end_time": "2024-01-08T12:20:49.591148",
     "exception": false,
     "start_time": "2024-01-08T12:20:49.559649",
     "status": "completed"
    },
    "tags": []
   },
   "outputs": [
    {
     "data": {
      "text/plain": [
       "['ph', 'Sulfate', 'Trihalomethanes']"
      ]
     },
     "execution_count": 76,
     "metadata": {},
     "output_type": "execute_result"
    }
   ],
   "source": [
    "l = find_miss(d)\n",
    "l"
   ]
  },
  {
   "cell_type": "code",
   "execution_count": 77,
   "id": "4e1e9532",
   "metadata": {
    "execution": {
     "iopub.execute_input": "2024-01-08T12:20:49.635344Z",
     "iopub.status.busy": "2024-01-08T12:20:49.634888Z",
     "iopub.status.idle": "2024-01-08T12:20:49.645146Z",
     "shell.execute_reply": "2024-01-08T12:20:49.644046Z"
    },
    "papermill": {
     "duration": 0.035157,
     "end_time": "2024-01-08T12:20:49.647741",
     "exception": false,
     "start_time": "2024-01-08T12:20:49.612584",
     "status": "completed"
    },
    "tags": []
   },
   "outputs": [
    {
     "name": "stderr",
     "output_type": "stream",
     "text": [
      "C:\\Users\\santhosh\\AppData\\Local\\Temp\\ipykernel_16896\\965340729.py:3: FutureWarning: A value is trying to be set on a copy of a DataFrame or Series through chained assignment using an inplace method.\n",
      "The behavior will change in pandas 3.0. This inplace method will never work because the intermediate object on which we are setting values always behaves as a copy.\n",
      "\n",
      "For example, when doing 'df[col].method(value, inplace=True)', try using 'df.method({col: value}, inplace=True)' or df[col] = df[col].method(value) instead, to perform the operation inplace on the original object.\n",
      "\n",
      "\n",
      "  df[column].fillna(mean_value,inplace = True)\n"
     ]
    }
   ],
   "source": [
    "for column in l:\n",
    "    mean_value = df[column].mean()\n",
    "    df[column].fillna(mean_value,inplace = True)"
   ]
  },
  {
   "cell_type": "code",
   "execution_count": 78,
   "id": "01c65df7",
   "metadata": {
    "execution": {
     "iopub.execute_input": "2024-01-08T12:20:49.692260Z",
     "iopub.status.busy": "2024-01-08T12:20:49.691805Z",
     "iopub.status.idle": "2024-01-08T12:20:49.701806Z",
     "shell.execute_reply": "2024-01-08T12:20:49.700442Z"
    },
    "papermill": {
     "duration": 0.035489,
     "end_time": "2024-01-08T12:20:49.704486",
     "exception": false,
     "start_time": "2024-01-08T12:20:49.668997",
     "status": "completed"
    },
    "tags": []
   },
   "outputs": [
    {
     "data": {
      "text/plain": [
       "ph                 0\n",
       "Hardness           0\n",
       "Solids             0\n",
       "Chloramines        0\n",
       "Sulfate            0\n",
       "Conductivity       0\n",
       "Organic_carbon     0\n",
       "Trihalomethanes    0\n",
       "Turbidity          0\n",
       "Potability         0\n",
       "dtype: int64"
      ]
     },
     "execution_count": 78,
     "metadata": {},
     "output_type": "execute_result"
    }
   ],
   "source": [
    "df.isnull().sum()"
   ]
  },
  {
   "cell_type": "code",
   "execution_count": 79,
   "id": "85b84d83",
   "metadata": {
    "execution": {
     "iopub.execute_input": "2024-01-08T12:20:49.749581Z",
     "iopub.status.busy": "2024-01-08T12:20:49.748817Z",
     "iopub.status.idle": "2024-01-08T12:20:49.776356Z",
     "shell.execute_reply": "2024-01-08T12:20:49.774972Z"
    },
    "papermill": {
     "duration": 0.053097,
     "end_time": "2024-01-08T12:20:49.779245",
     "exception": false,
     "start_time": "2024-01-08T12:20:49.726148",
     "status": "completed"
    },
    "tags": []
   },
   "outputs": [
    {
     "data": {
      "text/html": [
       "<div>\n",
       "<style scoped>\n",
       "    .dataframe tbody tr th:only-of-type {\n",
       "        vertical-align: middle;\n",
       "    }\n",
       "\n",
       "    .dataframe tbody tr th {\n",
       "        vertical-align: top;\n",
       "    }\n",
       "\n",
       "    .dataframe thead th {\n",
       "        text-align: right;\n",
       "    }\n",
       "</style>\n",
       "<table border=\"1\" class=\"dataframe\">\n",
       "  <thead>\n",
       "    <tr style=\"text-align: right;\">\n",
       "      <th></th>\n",
       "      <th>ph</th>\n",
       "      <th>Hardness</th>\n",
       "      <th>Solids</th>\n",
       "      <th>Chloramines</th>\n",
       "      <th>Sulfate</th>\n",
       "      <th>Conductivity</th>\n",
       "      <th>Organic_carbon</th>\n",
       "      <th>Trihalomethanes</th>\n",
       "      <th>Turbidity</th>\n",
       "      <th>Potability</th>\n",
       "    </tr>\n",
       "  </thead>\n",
       "  <tbody>\n",
       "    <tr>\n",
       "      <th>ph</th>\n",
       "      <td>1.000000</td>\n",
       "      <td>0.075833</td>\n",
       "      <td>-0.081884</td>\n",
       "      <td>-0.031811</td>\n",
       "      <td>0.014403</td>\n",
       "      <td>0.017192</td>\n",
       "      <td>0.040061</td>\n",
       "      <td>0.002994</td>\n",
       "      <td>-0.036222</td>\n",
       "      <td>-0.003287</td>\n",
       "    </tr>\n",
       "    <tr>\n",
       "      <th>Hardness</th>\n",
       "      <td>0.075833</td>\n",
       "      <td>1.000000</td>\n",
       "      <td>-0.046899</td>\n",
       "      <td>-0.030054</td>\n",
       "      <td>-0.092766</td>\n",
       "      <td>-0.023915</td>\n",
       "      <td>0.003610</td>\n",
       "      <td>-0.012690</td>\n",
       "      <td>-0.014449</td>\n",
       "      <td>-0.013837</td>\n",
       "    </tr>\n",
       "    <tr>\n",
       "      <th>Solids</th>\n",
       "      <td>-0.081884</td>\n",
       "      <td>-0.046899</td>\n",
       "      <td>1.000000</td>\n",
       "      <td>-0.070148</td>\n",
       "      <td>-0.149840</td>\n",
       "      <td>0.013831</td>\n",
       "      <td>0.010242</td>\n",
       "      <td>-0.008875</td>\n",
       "      <td>0.019546</td>\n",
       "      <td>0.033743</td>\n",
       "    </tr>\n",
       "    <tr>\n",
       "      <th>Chloramines</th>\n",
       "      <td>-0.031811</td>\n",
       "      <td>-0.030054</td>\n",
       "      <td>-0.070148</td>\n",
       "      <td>1.000000</td>\n",
       "      <td>0.023791</td>\n",
       "      <td>-0.020486</td>\n",
       "      <td>-0.012653</td>\n",
       "      <td>0.016627</td>\n",
       "      <td>0.002363</td>\n",
       "      <td>0.023779</td>\n",
       "    </tr>\n",
       "    <tr>\n",
       "      <th>Sulfate</th>\n",
       "      <td>0.014403</td>\n",
       "      <td>-0.092766</td>\n",
       "      <td>-0.149840</td>\n",
       "      <td>0.023791</td>\n",
       "      <td>1.000000</td>\n",
       "      <td>-0.014059</td>\n",
       "      <td>0.026909</td>\n",
       "      <td>-0.025605</td>\n",
       "      <td>-0.009790</td>\n",
       "      <td>-0.020619</td>\n",
       "    </tr>\n",
       "    <tr>\n",
       "      <th>Conductivity</th>\n",
       "      <td>0.017192</td>\n",
       "      <td>-0.023915</td>\n",
       "      <td>0.013831</td>\n",
       "      <td>-0.020486</td>\n",
       "      <td>-0.014059</td>\n",
       "      <td>1.000000</td>\n",
       "      <td>0.020966</td>\n",
       "      <td>0.001255</td>\n",
       "      <td>0.005798</td>\n",
       "      <td>-0.008128</td>\n",
       "    </tr>\n",
       "    <tr>\n",
       "      <th>Organic_carbon</th>\n",
       "      <td>0.040061</td>\n",
       "      <td>0.003610</td>\n",
       "      <td>0.010242</td>\n",
       "      <td>-0.012653</td>\n",
       "      <td>0.026909</td>\n",
       "      <td>0.020966</td>\n",
       "      <td>1.000000</td>\n",
       "      <td>-0.012976</td>\n",
       "      <td>-0.027308</td>\n",
       "      <td>-0.030001</td>\n",
       "    </tr>\n",
       "    <tr>\n",
       "      <th>Trihalomethanes</th>\n",
       "      <td>0.002994</td>\n",
       "      <td>-0.012690</td>\n",
       "      <td>-0.008875</td>\n",
       "      <td>0.016627</td>\n",
       "      <td>-0.025605</td>\n",
       "      <td>0.001255</td>\n",
       "      <td>-0.012976</td>\n",
       "      <td>1.000000</td>\n",
       "      <td>-0.021502</td>\n",
       "      <td>0.006960</td>\n",
       "    </tr>\n",
       "    <tr>\n",
       "      <th>Turbidity</th>\n",
       "      <td>-0.036222</td>\n",
       "      <td>-0.014449</td>\n",
       "      <td>0.019546</td>\n",
       "      <td>0.002363</td>\n",
       "      <td>-0.009790</td>\n",
       "      <td>0.005798</td>\n",
       "      <td>-0.027308</td>\n",
       "      <td>-0.021502</td>\n",
       "      <td>1.000000</td>\n",
       "      <td>0.001581</td>\n",
       "    </tr>\n",
       "    <tr>\n",
       "      <th>Potability</th>\n",
       "      <td>-0.003287</td>\n",
       "      <td>-0.013837</td>\n",
       "      <td>0.033743</td>\n",
       "      <td>0.023779</td>\n",
       "      <td>-0.020619</td>\n",
       "      <td>-0.008128</td>\n",
       "      <td>-0.030001</td>\n",
       "      <td>0.006960</td>\n",
       "      <td>0.001581</td>\n",
       "      <td>1.000000</td>\n",
       "    </tr>\n",
       "  </tbody>\n",
       "</table>\n",
       "</div>"
      ],
      "text/plain": [
       "                       ph  Hardness    Solids  Chloramines   Sulfate  \\\n",
       "ph               1.000000  0.075833 -0.081884    -0.031811  0.014403   \n",
       "Hardness         0.075833  1.000000 -0.046899    -0.030054 -0.092766   \n",
       "Solids          -0.081884 -0.046899  1.000000    -0.070148 -0.149840   \n",
       "Chloramines     -0.031811 -0.030054 -0.070148     1.000000  0.023791   \n",
       "Sulfate          0.014403 -0.092766 -0.149840     0.023791  1.000000   \n",
       "Conductivity     0.017192 -0.023915  0.013831    -0.020486 -0.014059   \n",
       "Organic_carbon   0.040061  0.003610  0.010242    -0.012653  0.026909   \n",
       "Trihalomethanes  0.002994 -0.012690 -0.008875     0.016627 -0.025605   \n",
       "Turbidity       -0.036222 -0.014449  0.019546     0.002363 -0.009790   \n",
       "Potability      -0.003287 -0.013837  0.033743     0.023779 -0.020619   \n",
       "\n",
       "                 Conductivity  Organic_carbon  Trihalomethanes  Turbidity  \\\n",
       "ph                   0.017192        0.040061         0.002994  -0.036222   \n",
       "Hardness            -0.023915        0.003610        -0.012690  -0.014449   \n",
       "Solids               0.013831        0.010242        -0.008875   0.019546   \n",
       "Chloramines         -0.020486       -0.012653         0.016627   0.002363   \n",
       "Sulfate             -0.014059        0.026909        -0.025605  -0.009790   \n",
       "Conductivity         1.000000        0.020966         0.001255   0.005798   \n",
       "Organic_carbon       0.020966        1.000000        -0.012976  -0.027308   \n",
       "Trihalomethanes      0.001255       -0.012976         1.000000  -0.021502   \n",
       "Turbidity            0.005798       -0.027308        -0.021502   1.000000   \n",
       "Potability          -0.008128       -0.030001         0.006960   0.001581   \n",
       "\n",
       "                 Potability  \n",
       "ph                -0.003287  \n",
       "Hardness          -0.013837  \n",
       "Solids             0.033743  \n",
       "Chloramines        0.023779  \n",
       "Sulfate           -0.020619  \n",
       "Conductivity      -0.008128  \n",
       "Organic_carbon    -0.030001  \n",
       "Trihalomethanes    0.006960  \n",
       "Turbidity          0.001581  \n",
       "Potability         1.000000  "
      ]
     },
     "execution_count": 79,
     "metadata": {},
     "output_type": "execute_result"
    }
   ],
   "source": [
    "df.corr().T"
   ]
  },
  {
   "cell_type": "code",
   "execution_count": 80,
   "id": "94e9fb64",
   "metadata": {
    "execution": {
     "iopub.execute_input": "2024-01-08T12:20:49.825549Z",
     "iopub.status.busy": "2024-01-08T12:20:49.824866Z",
     "iopub.status.idle": "2024-01-08T12:20:51.992494Z",
     "shell.execute_reply": "2024-01-08T12:20:51.991514Z"
    },
    "papermill": {
     "duration": 2.194504,
     "end_time": "2024-01-08T12:20:51.995625",
     "exception": false,
     "start_time": "2024-01-08T12:20:49.801121",
     "status": "completed"
    },
    "tags": []
   },
   "outputs": [
    {
     "data": {
      "image/png": "[encoded data removed]",
      "text/plain": [
       "<Figure size 1000x800 with 2 Axes>"
      ]
     },
     "metadata": {},
     "output_type": "display_data"
    }
   ],
   "source": [
    "import seaborn as sns\n",
    "import matplotlib.pyplot as plt\n",
    "plt.figure(figsize=(10, 8))\n",
    "sns.heatmap(df.corr(), annot=True, cmap='coolwarm', linewidths=.5)\n",
    "plt.show()\n"
   ]
  },
  {
   "cell_type": "code",
   "execution_count": 81,
   "id": "d5ac7541",
   "metadata": {
    "execution": {
     "iopub.execute_input": "2024-01-08T12:20:52.044323Z",
     "iopub.status.busy": "2024-01-08T12:20:52.043605Z",
     "iopub.status.idle": "2024-01-08T12:20:52.049801Z",
     "shell.execute_reply": "2024-01-08T12:20:52.048532Z"
    },
    "papermill": {
     "duration": 0.033747,
     "end_time": "2024-01-08T12:20:52.052543",
     "exception": false,
     "start_time": "2024-01-08T12:20:52.018796",
     "status": "completed"
    },
    "tags": []
   },
   "outputs": [],
   "source": [
    "X = df.drop('Potability',axis=1)\n",
    "y = df['Potability']"
   ]
  },
  {
   "cell_type": "code",
   "execution_count": 82,
   "id": "a304be21",
   "metadata": {
    "execution": {
     "iopub.execute_input": "2024-01-08T12:20:52.100968Z",
     "iopub.status.busy": "2024-01-08T12:20:52.100518Z",
     "iopub.status.idle": "2024-01-08T12:20:52.108234Z",
     "shell.execute_reply": "2024-01-08T12:20:52.106796Z"
    },
    "jupyter": {
     "source_hidden": true
    },
    "papermill": {
     "duration": 0.03504,
     "end_time": "2024-01-08T12:20:52.110916",
     "exception": false,
     "start_time": "2024-01-08T12:20:52.075876",
     "status": "completed"
    },
    "tags": []
   },
   "outputs": [
    {
     "data": {
      "text/plain": [
       "(3276, 9)"
      ]
     },
     "execution_count": 82,
     "metadata": {},
     "output_type": "execute_result"
    }
   ],
   "source": [
    "X.shape"
   ]
  },
  {
   "cell_type": "code",
   "execution_count": 83,
   "id": "a23b2142",
   "metadata": {
    "execution": {
     "iopub.execute_input": "2024-01-08T12:20:52.160292Z",
     "iopub.status.busy": "2024-01-08T12:20:52.159826Z",
     "iopub.status.idle": "2024-01-08T12:20:52.167499Z",
     "shell.execute_reply": "2024-01-08T12:20:52.166099Z"
    },
    "papermill": {
     "duration": 0.035482,
     "end_time": "2024-01-08T12:20:52.170083",
     "exception": false,
     "start_time": "2024-01-08T12:20:52.134601",
     "status": "completed"
    },
    "tags": []
   },
   "outputs": [
    {
     "data": {
      "text/plain": [
       "(3276,)"
      ]
     },
     "execution_count": 83,
     "metadata": {},
     "output_type": "execute_result"
    }
   ],
   "source": [
    "y.shape"
   ]
  },
  {
   "cell_type": "code",
   "execution_count": 84,
   "id": "cfb9b6cb",
   "metadata": {
    "execution": {
     "iopub.execute_input": "2024-01-08T12:20:52.219647Z",
     "iopub.status.busy": "2024-01-08T12:20:52.218519Z",
     "iopub.status.idle": "2024-01-08T12:20:52.491098Z",
     "shell.execute_reply": "2024-01-08T12:20:52.489818Z"
    },
    "papermill": {
     "duration": 0.30065,
     "end_time": "2024-01-08T12:20:52.494292",
     "exception": false,
     "start_time": "2024-01-08T12:20:52.193642",
     "status": "completed"
    },
    "tags": []
   },
   "outputs": [],
   "source": [
    "import sklearn\n",
    "from sklearn.model_selection import train_test_split\n",
    "X_train,X_test,y_train,y_test = train_test_split(X,y,test_size = 0.3)"
   ]
  },
  {
   "cell_type": "code",
   "execution_count": 85,
   "id": "64307d8d",
   "metadata": {
    "execution": {
     "iopub.execute_input": "2024-01-08T12:20:52.544126Z",
     "iopub.status.busy": "2024-01-08T12:20:52.543296Z",
     "iopub.status.idle": "2024-01-08T12:20:52.550808Z",
     "shell.execute_reply": "2024-01-08T12:20:52.549685Z"
    },
    "papermill": {
     "duration": 0.035055,
     "end_time": "2024-01-08T12:20:52.553189",
     "exception": false,
     "start_time": "2024-01-08T12:20:52.518134",
     "status": "completed"
    },
    "tags": []
   },
   "outputs": [
    {
     "data": {
      "text/plain": [
       "(2293, 9)"
      ]
     },
     "execution_count": 85,
     "metadata": {},
     "output_type": "execute_result"
    }
   ],
   "source": [
    "X_train.shape"
   ]
  },
  {
   "cell_type": "code",
   "execution_count": 86,
   "id": "2d9fff11",
   "metadata": {
    "execution": {
     "iopub.execute_input": "2024-01-08T12:20:52.602619Z",
     "iopub.status.busy": "2024-01-08T12:20:52.602219Z",
     "iopub.status.idle": "2024-01-08T12:20:52.609579Z",
     "shell.execute_reply": "2024-01-08T12:20:52.608470Z"
    },
    "papermill": {
     "duration": 0.034793,
     "end_time": "2024-01-08T12:20:52.611988",
     "exception": false,
     "start_time": "2024-01-08T12:20:52.577195",
     "status": "completed"
    },
    "tags": []
   },
   "outputs": [
    {
     "data": {
      "text/plain": [
       "(983, 9)"
      ]
     },
     "execution_count": 86,
     "metadata": {},
     "output_type": "execute_result"
    }
   ],
   "source": [
    "X_test.shape"
   ]
  },
  {
   "cell_type": "code",
   "execution_count": 87,
   "id": "06afde4f",
   "metadata": {
    "execution": {
     "iopub.execute_input": "2024-01-08T12:20:52.662096Z",
     "iopub.status.busy": "2024-01-08T12:20:52.661697Z",
     "iopub.status.idle": "2024-01-08T12:20:52.675143Z",
     "shell.execute_reply": "2024-01-08T12:20:52.674067Z"
    },
    "papermill": {
     "duration": 0.041775,
     "end_time": "2024-01-08T12:20:52.677827",
     "exception": false,
     "start_time": "2024-01-08T12:20:52.636052",
     "status": "completed"
    },
    "tags": []
   },
   "outputs": [],
   "source": [
    "from sklearn.preprocessing import StandardScaler\n",
    "import numpy as np\n",
    "scaler = StandardScaler()\n",
    "X_train = scaler.fit_transform(X_train)\n",
    "X_test = scaler.transform(X_test)"
   ]
  },
  {
   "cell_type": "code",
   "execution_count": 88,
   "id": "aee2d358",
   "metadata": {
    "execution": {
     "iopub.execute_input": "2024-01-08T12:20:52.728035Z",
     "iopub.status.busy": "2024-01-08T12:20:52.727622Z",
     "iopub.status.idle": "2024-01-08T12:20:52.863076Z",
     "shell.execute_reply": "2024-01-08T12:20:52.861318Z"
    },
    "papermill": {
     "duration": 0.166182,
     "end_time": "2024-01-08T12:20:52.867952",
     "exception": false,
     "start_time": "2024-01-08T12:20:52.701770",
     "status": "completed"
    },
    "tags": []
   },
   "outputs": [],
   "source": [
    "from sklearn.linear_model import LogisticRegression\n",
    "lr = LogisticRegression()\n",
    "lr.fit(X_train,y_train)\n",
    "y_pred = lr.predict(X_test)"
   ]
  },
  {
   "cell_type": "code",
   "execution_count": 89,
   "id": "16f9811f",
   "metadata": {
    "execution": {
     "iopub.execute_input": "2024-01-08T12:20:52.972405Z",
     "iopub.status.busy": "2024-01-08T12:20:52.971650Z",
     "iopub.status.idle": "2024-01-08T12:20:52.982731Z",
     "shell.execute_reply": "2024-01-08T12:20:52.981663Z"
    },
    "papermill": {
     "duration": 0.067842,
     "end_time": "2024-01-08T12:20:52.986668",
     "exception": false,
     "start_time": "2024-01-08T12:20:52.918826",
     "status": "completed"
    },
    "tags": []
   },
   "outputs": [
    {
     "name": "stdout",
     "output_type": "stream",
     "text": [
      "Accuracy: 0.5940996948118006\n"
     ]
    }
   ],
   "source": [
    "from sklearn.metrics import accuracy_score\n",
    "accuracy = accuracy_score(y_test, y_pred)\n",
    "print(\"Accuracy:\", accuracy)"
   ]
  },
  {
   "cell_type": "code",
   "execution_count": 90,
   "id": "7b9ac5f9",
   "metadata": {
    "execution": {
     "iopub.execute_input": "2024-01-08T12:20:53.036928Z",
     "iopub.status.busy": "2024-01-08T12:20:53.036160Z",
     "iopub.status.idle": "2024-01-08T12:20:53.041232Z",
     "shell.execute_reply": "2024-01-08T12:20:53.039979Z"
    },
    "papermill": {
     "duration": 0.033196,
     "end_time": "2024-01-08T12:20:53.043840",
     "exception": false,
     "start_time": "2024-01-08T12:20:53.010644",
     "status": "completed"
    },
    "tags": []
   },
   "outputs": [],
   "source": [
    "#### Here the accuracy is bit better so i am going to apply other machine learning model here only"
   ]
  },
  {
   "cell_type": "code",
   "execution_count": 91,
   "id": "e6a11437",
   "metadata": {
    "execution": {
     "iopub.execute_input": "2024-01-08T12:20:53.093489Z",
     "iopub.status.busy": "2024-01-08T12:20:53.093029Z",
     "iopub.status.idle": "2024-01-08T12:20:53.233028Z",
     "shell.execute_reply": "2024-01-08T12:20:53.231710Z"
    },
    "papermill": {
     "duration": 0.168019,
     "end_time": "2024-01-08T12:20:53.235824",
     "exception": false,
     "start_time": "2024-01-08T12:20:53.067805",
     "status": "completed"
    },
    "tags": []
   },
   "outputs": [
    {
     "name": "stdout",
     "output_type": "stream",
     "text": [
      "0.6002034587995931\n"
     ]
    }
   ],
   "source": [
    "from sklearn.tree import DecisionTreeClassifier\n",
    "dt = DecisionTreeClassifier()\n",
    "dt.fit(X_train,y_train)\n",
    "y_pred = dt.predict(X_test)\n",
    "print(accuracy_score(y_pred,y_test))"
   ]
  },
  {
   "cell_type": "code",
   "execution_count": 92,
   "id": "d19bf270",
   "metadata": {
    "execution": {
     "iopub.execute_input": "2024-01-08T12:20:53.288236Z",
     "iopub.status.busy": "2024-01-08T12:20:53.287794Z",
     "iopub.status.idle": "2024-01-08T12:20:54.463545Z",
     "shell.execute_reply": "2024-01-08T12:20:54.462154Z"
    },
    "papermill": {
     "duration": 1.206275,
     "end_time": "2024-01-08T12:20:54.466246",
     "exception": false,
     "start_time": "2024-01-08T12:20:53.259971",
     "status": "completed"
    },
    "tags": []
   },
   "outputs": [
    {
     "name": "stdout",
     "output_type": "stream",
     "text": [
      "0.6551373346897253\n"
     ]
    }
   ],
   "source": [
    "from sklearn.ensemble import RandomForestClassifier\n",
    "rfc = RandomForestClassifier()\n",
    "rfc.fit(X_train,y_train)\n",
    "y_pred = rfc.predict(X_test)\n",
    "print(accuracy_score(y_pred,y_test))"
   ]
  },
  {
   "cell_type": "code",
   "execution_count": 93,
   "id": "b59877a7",
   "metadata": {
    "execution": {
     "iopub.execute_input": "2024-01-08T12:20:54.517572Z",
     "iopub.status.busy": "2024-01-08T12:20:54.516840Z",
     "iopub.status.idle": "2024-01-08T12:20:54.861639Z",
     "shell.execute_reply": "2024-01-08T12:20:54.860302Z"
    },
    "papermill": {
     "duration": 0.373432,
     "end_time": "2024-01-08T12:20:54.864416",
     "exception": false,
     "start_time": "2024-01-08T12:20:54.490984",
     "status": "completed"
    },
    "tags": []
   },
   "outputs": [
    {
     "name": "stdout",
     "output_type": "stream",
     "text": [
      "Accuracy: 0.67\n"
     ]
    }
   ],
   "source": [
    "from sklearn import svm\n",
    "clf = svm.SVC(kernel='rbf')\n",
    "clf.fit(X_train, y_train)\n",
    "y_pred = clf.predict(X_test)\n",
    "accuracy = accuracy_score(y_test, y_pred)\n",
    "print(f\"Accuracy: {accuracy:.2f}\")"
   ]
  },
  {
   "cell_type": "code",
   "execution_count": 94,
   "id": "8128200c",
   "metadata": {
    "execution": {
     "iopub.execute_input": "2024-01-08T12:20:54.915710Z",
     "iopub.status.busy": "2024-01-08T12:20:54.915265Z",
     "iopub.status.idle": "2024-01-08T12:20:54.954472Z",
     "shell.execute_reply": "2024-01-08T12:20:54.953033Z"
    },
    "papermill": {
     "duration": 0.067976,
     "end_time": "2024-01-08T12:20:54.957374",
     "exception": false,
     "start_time": "2024-01-08T12:20:54.889398",
     "status": "completed"
    },
    "tags": []
   },
   "outputs": [
    {
     "name": "stdout",
     "output_type": "stream",
     "text": [
      "0.6551373346897253\n"
     ]
    }
   ],
   "source": [
    "from sklearn.naive_bayes import GaussianNB\n",
    "gnb = GaussianNB()\n",
    "gnb.fit(X_train,y_train)\n",
    "y_pred = rfc.predict(X_test)\n",
    "print(accuracy_score(y_pred,y_test))"
   ]
  },
  {
   "cell_type": "code",
   "execution_count": 95,
   "id": "4268ac56",
   "metadata": {
    "execution": {
     "iopub.execute_input": "2024-01-08T12:20:55.007761Z",
     "iopub.status.busy": "2024-01-08T12:20:55.007356Z",
     "iopub.status.idle": "2024-01-08T12:20:55.046182Z",
     "shell.execute_reply": "2024-01-08T12:20:55.045251Z"
    },
    "papermill": {
     "duration": 0.067768,
     "end_time": "2024-01-08T12:20:55.049399",
     "exception": false,
     "start_time": "2024-01-08T12:20:54.981631",
     "status": "completed"
    },
    "tags": []
   },
   "outputs": [
    {
     "name": "stdout",
     "output_type": "stream",
     "text": [
      "0.6551373346897253\n"
     ]
    }
   ],
   "source": [
    "from sklearn.neighbors import NearestNeighbors\n",
    "nn = NearestNeighbors(n_neighbors=4)\n",
    "nn.fit(X_train,y_train)\n",
    "y_pred = rfc.predict(X_test)\n",
    "print(accuracy_score(y_pred,y_test))"
   ]
  },
  {
   "cell_type": "code",
   "execution_count": 96,
   "id": "0f599dfb",
   "metadata": {
    "execution": {
     "iopub.execute_input": "2024-01-08T12:20:55.100467Z",
     "iopub.status.busy": "2024-01-08T12:20:55.099778Z",
     "iopub.status.idle": "2024-01-08T12:21:28.905152Z",
     "shell.execute_reply": "2024-01-08T12:21:28.903604Z"
    },
    "papermill": {
     "duration": 33.834022,
     "end_time": "2024-01-08T12:21:28.907843",
     "exception": false,
     "start_time": "2024-01-08T12:20:55.073821",
     "status": "completed"
    },
    "tags": []
   },
   "outputs": [
    {
     "name": "stderr",
     "output_type": "stream",
     "text": [
      "c:\\Users\\santhosh\\AppData\\Local\\Programs\\Python\\Python311\\Lib\\site-packages\\keras\\src\\layers\\core\\dense.py:87: UserWarning: Do not pass an `input_shape`/`input_dim` argument to a layer. When using Sequential models, prefer using an `Input(shape)` object as the first layer in the model instead.\n",
      "  super().__init__(activity_regularizer=activity_regularizer, **kwargs)\n"
     ]
    },
    {
     "name": "stdout",
     "output_type": "stream",
     "text": [
      "Epoch 1/50\n",
      "\u001b[1m72/72\u001b[0m \u001b[32m━━━━━━━━━━━━━━━━━━━━\u001b[0m\u001b[37m\u001b[0m \u001b[1m2s\u001b[0m 7ms/step - accuracy: 0.5280 - loss: 0.7991 - val_accuracy: 0.5829 - val_loss: 0.6864\n",
      "Epoch 2/50\n",
      "\u001b[1m72/72\u001b[0m \u001b[32m━━━━━━━━━━━━━━━━━━━━\u001b[0m\u001b[37m\u001b[0m \u001b[1m0s\u001b[0m 5ms/step - accuracy: 0.5119 - loss: 0.7592 - val_accuracy: 0.5921 - val_loss: 0.6756\n",
      "Epoch 3/50\n",
      "\u001b[1m72/72\u001b[0m \u001b[32m━━━━━━━━━━━━━━━━━━━━\u001b[0m\u001b[37m\u001b[0m \u001b[1m0s\u001b[0m 4ms/step - accuracy: 0.5391 - loss: 0.7090 - val_accuracy: 0.5951 - val_loss: 0.6727\n",
      "Epoch 4/50\n",
      "\u001b[1m72/72\u001b[0m \u001b[32m━━━━━━━━━━━━━━━━━━━━\u001b[0m\u001b[37m\u001b[0m \u001b[1m0s\u001b[0m 5ms/step - accuracy: 0.5665 - loss: 0.7041 - val_accuracy: 0.5972 - val_loss: 0.6707\n",
      "Epoch 5/50\n",
      "\u001b[1m72/72\u001b[0m \u001b[32m━━━━━━━━━━━━━━━━━━━━\u001b[0m\u001b[37m\u001b[0m \u001b[1m0s\u001b[0m 5ms/step - accuracy: 0.5616 - loss: 0.6903 - val_accuracy: 0.5982 - val_loss: 0.6680\n",
      "Epoch 6/50\n",
      "\u001b[1m72/72\u001b[0m \u001b[32m━━━━━━━━━━━━━━━━━━━━\u001b[0m\u001b[37m\u001b[0m \u001b[1m0s\u001b[0m 5ms/step - accuracy: 0.5791 - loss: 0.6825 - val_accuracy: 0.5992 - val_loss: 0.6652\n",
      "Epoch 7/50\n",
      "\u001b[1m72/72\u001b[0m \u001b[32m━━━━━━━━━━━━━━━━━━━━\u001b[0m\u001b[37m\u001b[0m \u001b[1m0s\u001b[0m 6ms/step - accuracy: 0.5984 - loss: 0.6801 - val_accuracy: 0.6022 - val_loss: 0.6660\n",
      "Epoch 8/50\n",
      "\u001b[1m72/72\u001b[0m \u001b[32m━━━━━━━━━━━━━━━━━━━━\u001b[0m\u001b[37m\u001b[0m \u001b[1m0s\u001b[0m 5ms/step - accuracy: 0.5958 - loss: 0.6715 - val_accuracy: 0.5992 - val_loss: 0.6665\n",
      "Epoch 9/50\n",
      "\u001b[1m72/72\u001b[0m \u001b[32m━━━━━━━━━━━━━━━━━━━━\u001b[0m\u001b[37m\u001b[0m \u001b[1m0s\u001b[0m 5ms/step - accuracy: 0.6117 - loss: 0.6641 - val_accuracy: 0.5982 - val_loss: 0.6645\n",
      "Epoch 10/50\n",
      "\u001b[1m72/72\u001b[0m \u001b[32m━━━━━━━━━━━━━━━━━━━━\u001b[0m\u001b[37m\u001b[0m \u001b[1m0s\u001b[0m 5ms/step - accuracy: 0.5853 - loss: 0.6851 - val_accuracy: 0.6002 - val_loss: 0.6615\n",
      "Epoch 11/50\n",
      "\u001b[1m72/72\u001b[0m \u001b[32m━━━━━━━━━━━━━━━━━━━━\u001b[0m\u001b[37m\u001b[0m \u001b[1m0s\u001b[0m 5ms/step - accuracy: 0.6052 - loss: 0.6693 - val_accuracy: 0.6012 - val_loss: 0.6623\n",
      "Epoch 12/50\n",
      "\u001b[1m72/72\u001b[0m \u001b[32m━━━━━━━━━━━━━━━━━━━━\u001b[0m\u001b[37m\u001b[0m \u001b[1m0s\u001b[0m 6ms/step - accuracy: 0.6252 - loss: 0.6592 - val_accuracy: 0.6043 - val_loss: 0.6616\n",
      "Epoch 13/50\n",
      "\u001b[1m72/72\u001b[0m \u001b[32m━━━━━━━━━━━━━━━━━━━━\u001b[0m\u001b[37m\u001b[0m \u001b[1m0s\u001b[0m 5ms/step - accuracy: 0.6030 - loss: 0.6742 - val_accuracy: 0.6002 - val_loss: 0.6638\n",
      "Epoch 14/50\n",
      "\u001b[1m72/72\u001b[0m \u001b[32m━━━━━━━━━━━━━━━━━━━━\u001b[0m\u001b[37m\u001b[0m \u001b[1m0s\u001b[0m 5ms/step - accuracy: 0.6179 - loss: 0.6618 - val_accuracy: 0.5992 - val_loss: 0.6631\n",
      "Epoch 15/50\n",
      "\u001b[1m72/72\u001b[0m \u001b[32m━━━━━━━━━━━━━━━━━━━━\u001b[0m\u001b[37m\u001b[0m \u001b[1m0s\u001b[0m 5ms/step - accuracy: 0.6272 - loss: 0.6547 - val_accuracy: 0.6002 - val_loss: 0.6633\n",
      "Epoch 16/50\n",
      "\u001b[1m72/72\u001b[0m \u001b[32m━━━━━━━━━━━━━━━━━━━━\u001b[0m\u001b[37m\u001b[0m \u001b[1m0s\u001b[0m 5ms/step - accuracy: 0.6030 - loss: 0.6822 - val_accuracy: 0.6022 - val_loss: 0.6632\n",
      "Epoch 17/50\n",
      "\u001b[1m72/72\u001b[0m \u001b[32m━━━━━━━━━━━━━━━━━━━━\u001b[0m\u001b[37m\u001b[0m \u001b[1m0s\u001b[0m 4ms/step - accuracy: 0.5999 - loss: 0.6770 - val_accuracy: 0.6033 - val_loss: 0.6641\n",
      "Epoch 18/50\n",
      "\u001b[1m72/72\u001b[0m \u001b[32m━━━━━━━━━━━━━━━━━━━━\u001b[0m\u001b[37m\u001b[0m \u001b[1m0s\u001b[0m 5ms/step - accuracy: 0.6190 - loss: 0.6646 - val_accuracy: 0.6033 - val_loss: 0.6666\n",
      "Epoch 19/50\n",
      "\u001b[1m72/72\u001b[0m \u001b[32m━━━━━━━━━━━━━━━━━━━━\u001b[0m\u001b[37m\u001b[0m \u001b[1m0s\u001b[0m 5ms/step - accuracy: 0.6296 - loss: 0.6569 - val_accuracy: 0.6033 - val_loss: 0.6683\n",
      "Epoch 20/50\n",
      "\u001b[1m72/72\u001b[0m \u001b[32m━━━━━━━━━━━━━━━━━━━━\u001b[0m\u001b[37m\u001b[0m \u001b[1m0s\u001b[0m 5ms/step - accuracy: 0.5931 - loss: 0.6780 - val_accuracy: 0.6012 - val_loss: 0.6640\n",
      "Epoch 21/50\n",
      "\u001b[1m72/72\u001b[0m \u001b[32m━━━━━━━━━━━━━━━━━━━━\u001b[0m\u001b[37m\u001b[0m \u001b[1m0s\u001b[0m 6ms/step - accuracy: 0.6126 - loss: 0.6700 - val_accuracy: 0.6002 - val_loss: 0.6631\n",
      "Epoch 22/50\n",
      "\u001b[1m72/72\u001b[0m \u001b[32m━━━━━━━━━━━━━━━━━━━━\u001b[0m\u001b[37m\u001b[0m \u001b[1m0s\u001b[0m 5ms/step - accuracy: 0.5874 - loss: 0.6810 - val_accuracy: 0.6002 - val_loss: 0.6643\n",
      "Epoch 23/50\n",
      "\u001b[1m72/72\u001b[0m \u001b[32m━━━━━━━━━━━━━━━━━━━━\u001b[0m\u001b[37m\u001b[0m \u001b[1m0s\u001b[0m 5ms/step - accuracy: 0.6276 - loss: 0.6585 - val_accuracy: 0.6033 - val_loss: 0.6642\n",
      "Epoch 24/50\n",
      "\u001b[1m72/72\u001b[0m \u001b[32m━━━━━━━━━━━━━━━━━━━━\u001b[0m\u001b[37m\u001b[0m \u001b[1m0s\u001b[0m 4ms/step - accuracy: 0.6048 - loss: 0.6589 - val_accuracy: 0.6043 - val_loss: 0.6594\n",
      "Epoch 25/50\n",
      "\u001b[1m72/72\u001b[0m \u001b[32m━━━━━━━━━━━━━━━━━━━━\u001b[0m\u001b[37m\u001b[0m \u001b[1m0s\u001b[0m 4ms/step - accuracy: 0.6286 - loss: 0.6610 - val_accuracy: 0.6053 - val_loss: 0.6604\n",
      "Epoch 26/50\n",
      "\u001b[1m72/72\u001b[0m \u001b[32m━━━━━━━━━━━━━━━━━━━━\u001b[0m\u001b[37m\u001b[0m \u001b[1m0s\u001b[0m 3ms/step - accuracy: 0.6091 - loss: 0.6608 - val_accuracy: 0.6073 - val_loss: 0.6594\n",
      "Epoch 27/50\n",
      "\u001b[1m72/72\u001b[0m \u001b[32m━━━━━━━━━━━━━━━━━━━━\u001b[0m\u001b[37m\u001b[0m \u001b[1m0s\u001b[0m 4ms/step - accuracy: 0.6086 - loss: 0.6619 - val_accuracy: 0.6053 - val_loss: 0.6593\n",
      "Epoch 28/50\n",
      "\u001b[1m72/72\u001b[0m \u001b[32m━━━━━━━━━━━━━━━━━━━━\u001b[0m\u001b[37m\u001b[0m \u001b[1m0s\u001b[0m 5ms/step - accuracy: 0.6250 - loss: 0.6606 - val_accuracy: 0.6043 - val_loss: 0.6614\n",
      "Epoch 29/50\n",
      "\u001b[1m72/72\u001b[0m \u001b[32m━━━━━━━━━━━━━━━━━━━━\u001b[0m\u001b[37m\u001b[0m \u001b[1m0s\u001b[0m 4ms/step - accuracy: 0.6018 - loss: 0.6699 - val_accuracy: 0.6053 - val_loss: 0.6603\n",
      "Epoch 30/50\n",
      "\u001b[1m72/72\u001b[0m \u001b[32m━━━━━━━━━━━━━━━━━━━━\u001b[0m\u001b[37m\u001b[0m \u001b[1m0s\u001b[0m 5ms/step - accuracy: 0.6104 - loss: 0.6679 - val_accuracy: 0.6104 - val_loss: 0.6559\n",
      "Epoch 31/50\n",
      "\u001b[1m72/72\u001b[0m \u001b[32m━━━━━━━━━━━━━━━━━━━━\u001b[0m\u001b[37m\u001b[0m \u001b[1m0s\u001b[0m 5ms/step - accuracy: 0.6267 - loss: 0.6544 - val_accuracy: 0.6124 - val_loss: 0.6581\n",
      "Epoch 32/50\n",
      "\u001b[1m72/72\u001b[0m \u001b[32m━━━━━━━━━━━━━━━━━━━━\u001b[0m\u001b[37m\u001b[0m \u001b[1m0s\u001b[0m 4ms/step - accuracy: 0.6175 - loss: 0.6652 - val_accuracy: 0.6114 - val_loss: 0.6566\n",
      "Epoch 33/50\n",
      "\u001b[1m72/72\u001b[0m \u001b[32m━━━━━━━━━━━━━━━━━━━━\u001b[0m\u001b[37m\u001b[0m \u001b[1m0s\u001b[0m 4ms/step - accuracy: 0.6137 - loss: 0.6639 - val_accuracy: 0.6134 - val_loss: 0.6578\n",
      "Epoch 34/50\n",
      "\u001b[1m72/72\u001b[0m \u001b[32m━━━━━━━━━━━━━━━━━━━━\u001b[0m\u001b[37m\u001b[0m \u001b[1m0s\u001b[0m 4ms/step - accuracy: 0.6195 - loss: 0.6634 - val_accuracy: 0.6124 - val_loss: 0.6567\n",
      "Epoch 35/50\n",
      "\u001b[1m72/72\u001b[0m \u001b[32m━━━━━━━━━━━━━━━━━━━━\u001b[0m\u001b[37m\u001b[0m \u001b[1m0s\u001b[0m 4ms/step - accuracy: 0.6232 - loss: 0.6611 - val_accuracy: 0.6195 - val_loss: 0.6553\n",
      "Epoch 36/50\n",
      "\u001b[1m72/72\u001b[0m \u001b[32m━━━━━━━━━━━━━━━━━━━━\u001b[0m\u001b[37m\u001b[0m \u001b[1m0s\u001b[0m 4ms/step - accuracy: 0.6207 - loss: 0.6559 - val_accuracy: 0.6205 - val_loss: 0.6539\n",
      "Epoch 37/50\n",
      "\u001b[1m72/72\u001b[0m \u001b[32m━━━━━━━━━━━━━━━━━━━━\u001b[0m\u001b[37m\u001b[0m \u001b[1m0s\u001b[0m 4ms/step - accuracy: 0.6140 - loss: 0.6505 - val_accuracy: 0.6216 - val_loss: 0.6524\n",
      "Epoch 38/50\n",
      "\u001b[1m72/72\u001b[0m \u001b[32m━━━━━━━━━━━━━━━━━━━━\u001b[0m\u001b[37m\u001b[0m \u001b[1m0s\u001b[0m 5ms/step - accuracy: 0.6219 - loss: 0.6527 - val_accuracy: 0.6226 - val_loss: 0.6522\n",
      "Epoch 39/50\n",
      "\u001b[1m72/72\u001b[0m \u001b[32m━━━━━━━━━━━━━━━━━━━━\u001b[0m\u001b[37m\u001b[0m \u001b[1m0s\u001b[0m 5ms/step - accuracy: 0.6286 - loss: 0.6512 - val_accuracy: 0.6246 - val_loss: 0.6486\n",
      "Epoch 40/50\n",
      "\u001b[1m72/72\u001b[0m \u001b[32m━━━━━━━━━━━━━━━━━━━━\u001b[0m\u001b[37m\u001b[0m \u001b[1m0s\u001b[0m 5ms/step - accuracy: 0.6238 - loss: 0.6571 - val_accuracy: 0.6246 - val_loss: 0.6521\n",
      "Epoch 41/50\n",
      "\u001b[1m72/72\u001b[0m \u001b[32m━━━━━━━━━━━━━━━━━━━━\u001b[0m\u001b[37m\u001b[0m \u001b[1m0s\u001b[0m 5ms/step - accuracy: 0.6138 - loss: 0.6530 - val_accuracy: 0.6277 - val_loss: 0.6485\n",
      "Epoch 42/50\n",
      "\u001b[1m72/72\u001b[0m \u001b[32m━━━━━━━━━━━━━━━━━━━━\u001b[0m\u001b[37m\u001b[0m \u001b[1m0s\u001b[0m 5ms/step - accuracy: 0.6231 - loss: 0.6631 - val_accuracy: 0.6256 - val_loss: 0.6491\n",
      "Epoch 43/50\n",
      "\u001b[1m72/72\u001b[0m \u001b[32m━━━━━━━━━━━━━━━━━━━━\u001b[0m\u001b[37m\u001b[0m \u001b[1m0s\u001b[0m 4ms/step - accuracy: 0.6204 - loss: 0.6585 - val_accuracy: 0.6267 - val_loss: 0.6497\n",
      "Epoch 44/50\n",
      "\u001b[1m72/72\u001b[0m \u001b[32m━━━━━━━━━━━━━━━━━━━━\u001b[0m\u001b[37m\u001b[0m \u001b[1m0s\u001b[0m 4ms/step - accuracy: 0.6202 - loss: 0.6600 - val_accuracy: 0.6256 - val_loss: 0.6514\n",
      "Epoch 45/50\n",
      "\u001b[1m72/72\u001b[0m \u001b[32m━━━━━━━━━━━━━━━━━━━━\u001b[0m\u001b[37m\u001b[0m \u001b[1m0s\u001b[0m 4ms/step - accuracy: 0.6290 - loss: 0.6479 - val_accuracy: 0.6236 - val_loss: 0.6518\n",
      "Epoch 46/50\n",
      "\u001b[1m72/72\u001b[0m \u001b[32m━━━━━━━━━━━━━━━━━━━━\u001b[0m\u001b[37m\u001b[0m \u001b[1m0s\u001b[0m 4ms/step - accuracy: 0.6117 - loss: 0.6656 - val_accuracy: 0.6297 - val_loss: 0.6519\n",
      "Epoch 47/50\n",
      "\u001b[1m72/72\u001b[0m \u001b[32m━━━━━━━━━━━━━━━━━━━━\u001b[0m\u001b[37m\u001b[0m \u001b[1m0s\u001b[0m 4ms/step - accuracy: 0.6183 - loss: 0.6560 - val_accuracy: 0.6287 - val_loss: 0.6505\n",
      "Epoch 48/50\n",
      "\u001b[1m72/72\u001b[0m \u001b[32m━━━━━━━━━━━━━━━━━━━━\u001b[0m\u001b[37m\u001b[0m \u001b[1m0s\u001b[0m 4ms/step - accuracy: 0.6228 - loss: 0.6513 - val_accuracy: 0.6297 - val_loss: 0.6491\n",
      "Epoch 49/50\n",
      "\u001b[1m72/72\u001b[0m \u001b[32m━━━━━━━━━━━━━━━━━━━━\u001b[0m\u001b[37m\u001b[0m \u001b[1m0s\u001b[0m 5ms/step - accuracy: 0.6300 - loss: 0.6553 - val_accuracy: 0.6287 - val_loss: 0.6463\n",
      "Epoch 50/50\n",
      "\u001b[1m72/72\u001b[0m \u001b[32m━━━━━━━━━━━━━━━━━━━━\u001b[0m\u001b[37m\u001b[0m \u001b[1m0s\u001b[0m 5ms/step - accuracy: 0.6128 - loss: 0.6631 - val_accuracy: 0.6348 - val_loss: 0.6458\n",
      "\u001b[1m31/31\u001b[0m \u001b[32m━━━━━━━━━━━━━━━━━━━━\u001b[0m\u001b[37m\u001b[0m \u001b[1m0s\u001b[0m 4ms/step\n",
      "Accuracy: 0.63\n"
     ]
    }
   ],
   "source": [
    "import tensorflow as tf\n",
    "from tensorflow.keras import layers, models\n",
    "from tensorflow.keras.optimizers import SGD\n",
    "from tensorflow.keras.callbacks import EarlyStopping\n",
    "from sklearn.model_selection import train_test_split\n",
    "from sklearn.metrics import accuracy_score\n",
    "\n",
    "model = models.Sequential()\n",
    "model.add(layers.Dense(128, activation='relu', input_shape=(X_train.shape[1],)))\n",
    "model.add(layers.BatchNormalization())\n",
    "model.add(layers.Dropout(0.5))\n",
    "model.add(layers.Dense(128, activation='relu'))\n",
    "model.add(layers.BatchNormalization())\n",
    "model.add(layers.Dropout(0.5))\n",
    "model.add(layers.Dense(64, activation='relu'))\n",
    "model.add(layers.BatchNormalization())\n",
    "model.add(layers.Dropout(0.5))\n",
    "model.add(layers.Dense(64, activation='tanh'))\n",
    "model.add(layers.BatchNormalization())\n",
    "model.add(layers.Dense(1, activation='sigmoid'))  # For binary classification\n",
    "\n",
    "# Compile the model with SGD optimizer and a specific learning rate\n",
    "optimizer = SGD(learning_rate=0.01)\n",
    "model.compile(optimizer=optimizer, loss='binary_crossentropy', metrics=['accuracy'])\n",
    "\n",
    "# Early stopping callback to stop training if validation loss doesn't improve\n",
    "early_stopping = EarlyStopping(monitor='val_loss', patience=3, restore_best_weights=True)\n",
    "\n",
    "# Train the model on the training data\n",
    "model.fit(X_train, y_train, epochs=50, batch_size=32, validation_data=(X_test, y_test))\n",
    "\n",
    "# Make predictions on the testing data\n",
    "y_pred_prob = model.predict(X_test)\n",
    "y_pred = (y_pred_prob > 0.5).astype(int)  \n",
    "\n",
    "# Evaluate the accuracy of the model\n",
    "accuracy = accuracy_score(y_test, y_pred)\n",
    "print(f\"Accuracy: {accuracy:.2f}\")"
   ]
  },
  {
   "cell_type": "code",
   "execution_count": 97,
   "id": "2bbbf5b9",
   "metadata": {
    "execution": {
     "iopub.execute_input": "2024-01-08T12:21:29.028676Z",
     "iopub.status.busy": "2024-01-08T12:21:29.028257Z",
     "iopub.status.idle": "2024-01-08T12:21:29.035802Z",
     "shell.execute_reply": "2024-01-08T12:21:29.034610Z"
    },
    "papermill": {
     "duration": 0.071114,
     "end_time": "2024-01-08T12:21:29.038155",
     "exception": false,
     "start_time": "2024-01-08T12:21:28.967041",
     "status": "completed"
    },
    "tags": []
   },
   "outputs": [
    {
     "data": {
      "text/plain": [
       "(3276, 10)"
      ]
     },
     "execution_count": 97,
     "metadata": {},
     "output_type": "execute_result"
    }
   ],
   "source": [
    "df.shape"
   ]
  },
  {
   "cell_type": "code",
   "execution_count": 98,
   "id": "0d0f300d",
   "metadata": {
    "execution": {
     "iopub.execute_input": "2024-01-08T12:21:29.159614Z",
     "iopub.status.busy": "2024-01-08T12:21:29.159155Z",
     "iopub.status.idle": "2024-01-08T12:21:29.792894Z",
     "shell.execute_reply": "2024-01-08T12:21:29.791728Z"
    },
    "papermill": {
     "duration": 0.698776,
     "end_time": "2024-01-08T12:21:29.795697",
     "exception": false,
     "start_time": "2024-01-08T12:21:29.096921",
     "status": "completed"
    },
    "tags": []
   },
   "outputs": [
    {
     "name": "stdout",
     "output_type": "stream",
     "text": [
      "Accuracy: 0.63\n"
     ]
    }
   ],
   "source": [
    "import xgboost as xgb\n",
    "from sklearn.metrics import accuracy_score\n",
    "\n",
    "model = xgb.XGBClassifier(\n",
    "   \n",
    ")\n",
    "\n",
    "# Train the XGBoost model on the training data\n",
    "model.fit(X_train, y_train)\n",
    "\n",
    "# Make predictions on the testing data\n",
    "y_pred = model.predict(X_test)\n",
    "\n",
    "# Evaluate the accuracy of the model\n",
    "accuracy = accuracy_score(y_test, y_pred)\n",
    "print(f\"Accuracy: {accuracy:.2f}\")\n"
   ]
  },
  {
   "cell_type": "markdown",
   "id": "88067d65",
   "metadata": {
    "papermill": {
     "duration": 0.058982,
     "end_time": "2024-01-08T12:21:30.035792",
     "exception": false,
     "start_time": "2024-01-08T12:21:29.976810",
     "status": "completed"
    },
    "tags": []
   },
   "source": [
    "### Here, we can see that the accuracy has further decreased. Now, there was one thing we did earlier: we tried to fill our NaN values, and there were approximately 900+ NaN values in total. Let's do one thing; instead of filling them, let's remove them. It's about one-third of our dataset, but let's see how it goes. It's like checking what we can identify right now"
   ]
  },
  {
   "cell_type": "code",
   "execution_count": 99,
   "id": "b5c4486b",
   "metadata": {
    "execution": {
     "iopub.execute_input": "2024-01-08T12:21:30.155768Z",
     "iopub.status.busy": "2024-01-08T12:21:30.155300Z",
     "iopub.status.idle": "2024-01-08T12:21:30.164804Z",
     "shell.execute_reply": "2024-01-08T12:21:30.163797Z"
    },
    "papermill": {
     "duration": 0.072522,
     "end_time": "2024-01-08T12:21:30.167541",
     "exception": false,
     "start_time": "2024-01-08T12:21:30.095019",
     "status": "completed"
    },
    "tags": []
   },
   "outputs": [],
   "source": [
    "df_new.dropna(inplace=True)"
   ]
  },
  {
   "cell_type": "markdown",
   "id": "0b72b9a0",
   "metadata": {
    "execution": {
     "iopub.execute_input": "2024-01-07T19:39:38.473618Z",
     "iopub.status.busy": "2024-01-07T19:39:38.472871Z",
     "iopub.status.idle": "2024-01-07T19:39:38.482795Z",
     "shell.execute_reply": "2024-01-07T19:39:38.480582Z",
     "shell.execute_reply.started": "2024-01-07T19:39:38.473574Z"
    },
    "papermill": {
     "duration": 0.05846,
     "end_time": "2024-01-08T12:21:30.285815",
     "exception": false,
     "start_time": "2024-01-08T12:21:30.227355",
     "status": "completed"
    },
    "tags": []
   },
   "source": [
    "#### so now i will do something about as before i saw there was imbalance dataset so i am using using smote let's what i can do about"
   ]
  },
  {
   "cell_type": "code",
   "execution_count": 100,
   "id": "454de568",
   "metadata": {
    "execution": {
     "iopub.execute_input": "2024-01-08T12:21:30.408575Z",
     "iopub.status.busy": "2024-01-08T12:21:30.407359Z",
     "iopub.status.idle": "2024-01-08T12:21:30.416078Z",
     "shell.execute_reply": "2024-01-08T12:21:30.415219Z"
    },
    "papermill": {
     "duration": 0.072377,
     "end_time": "2024-01-08T12:21:30.418664",
     "exception": false,
     "start_time": "2024-01-08T12:21:30.346287",
     "status": "completed"
    },
    "tags": []
   },
   "outputs": [],
   "source": [
    "X = df_new.drop('Potability',axis=1)\n",
    "y = df_new['Potability']\n",
    "X_train,X_test,y_train,y_test = train_test_split(X,y,test_size = 0.3)"
   ]
  },
  {
   "cell_type": "code",
   "execution_count": 101,
   "id": "f7bd5180",
   "metadata": {},
   "outputs": [
    {
     "name": "stdout",
     "output_type": "stream",
     "text": [
      "1.6.1\n",
      "0.13.0\n"
     ]
    }
   ],
   "source": [
    "import sklearn\n",
    "import imblearn\n",
    "\n",
    "print(sklearn.__version__)\n",
    "print(imblearn.__version__)"
   ]
  },
  {
   "cell_type": "code",
   "execution_count": 102,
   "id": "997b725b",
   "metadata": {
    "execution": {
     "iopub.execute_input": "2024-01-08T12:21:30.540189Z",
     "iopub.status.busy": "2024-01-08T12:21:30.539045Z",
     "iopub.status.idle": "2024-01-08T12:21:30.705792Z",
     "shell.execute_reply": "2024-01-08T12:21:30.704644Z"
    },
    "papermill": {
     "duration": 0.229804,
     "end_time": "2024-01-08T12:21:30.708656",
     "exception": false,
     "start_time": "2024-01-08T12:21:30.478852",
     "status": "completed"
    },
    "tags": []
   },
   "outputs": [],
   "source": [
    "from imblearn.over_sampling import SMOTE\n",
    "smote = SMOTE(random_state=42)\n",
    "X_train, y_train = smote.fit_resample(X_train, y_train)\n",
    "scaler = StandardScaler()\n",
    "X_train = scaler.fit_transform(X_train)\n",
    "X_test = scaler.transform(X_test)"
   ]
  },
  {
   "cell_type": "code",
   "execution_count": 103,
   "id": "1213f164",
   "metadata": {
    "execution": {
     "iopub.execute_input": "2024-01-08T12:21:30.829871Z",
     "iopub.status.busy": "2024-01-08T12:21:30.829101Z",
     "iopub.status.idle": "2024-01-08T12:21:30.836710Z",
     "shell.execute_reply": "2024-01-08T12:21:30.835482Z"
    },
    "papermill": {
     "duration": 0.071458,
     "end_time": "2024-01-08T12:21:30.839242",
     "exception": false,
     "start_time": "2024-01-08T12:21:30.767784",
     "status": "completed"
    },
    "tags": []
   },
   "outputs": [
    {
     "data": {
      "text/plain": [
       "(2011, 10)"
      ]
     },
     "execution_count": 103,
     "metadata": {},
     "output_type": "execute_result"
    }
   ],
   "source": [
    "df_new.shape"
   ]
  },
  {
   "cell_type": "code",
   "execution_count": 104,
   "id": "712bd715",
   "metadata": {
    "execution": {
     "iopub.execute_input": "2024-01-08T12:21:30.962035Z",
     "iopub.status.busy": "2024-01-08T12:21:30.961021Z",
     "iopub.status.idle": "2024-01-08T12:21:30.981106Z",
     "shell.execute_reply": "2024-01-08T12:21:30.980219Z"
    },
    "papermill": {
     "duration": 0.084015,
     "end_time": "2024-01-08T12:21:30.983376",
     "exception": false,
     "start_time": "2024-01-08T12:21:30.899361",
     "status": "completed"
    },
    "tags": []
   },
   "outputs": [
    {
     "data": {
      "text/html": [
       "<div>\n",
       "<style scoped>\n",
       "    .dataframe tbody tr th:only-of-type {\n",
       "        vertical-align: middle;\n",
       "    }\n",
       "\n",
       "    .dataframe tbody tr th {\n",
       "        vertical-align: top;\n",
       "    }\n",
       "\n",
       "    .dataframe thead th {\n",
       "        text-align: right;\n",
       "    }\n",
       "</style>\n",
       "<table border=\"1\" class=\"dataframe\">\n",
       "  <thead>\n",
       "    <tr style=\"text-align: right;\">\n",
       "      <th></th>\n",
       "      <th>ph</th>\n",
       "      <th>Hardness</th>\n",
       "      <th>Solids</th>\n",
       "      <th>Chloramines</th>\n",
       "      <th>Sulfate</th>\n",
       "      <th>Conductivity</th>\n",
       "      <th>Organic_carbon</th>\n",
       "      <th>Trihalomethanes</th>\n",
       "      <th>Turbidity</th>\n",
       "      <th>Potability</th>\n",
       "    </tr>\n",
       "  </thead>\n",
       "  <tbody>\n",
       "    <tr>\n",
       "      <th>3</th>\n",
       "      <td>8.316766</td>\n",
       "      <td>214.373394</td>\n",
       "      <td>22018.417441</td>\n",
       "      <td>8.059332</td>\n",
       "      <td>356.886136</td>\n",
       "      <td>363.266516</td>\n",
       "      <td>18.436524</td>\n",
       "      <td>100.341674</td>\n",
       "      <td>4.628771</td>\n",
       "      <td>0</td>\n",
       "    </tr>\n",
       "    <tr>\n",
       "      <th>4</th>\n",
       "      <td>9.092223</td>\n",
       "      <td>181.101509</td>\n",
       "      <td>17978.986339</td>\n",
       "      <td>6.546600</td>\n",
       "      <td>310.135738</td>\n",
       "      <td>398.410813</td>\n",
       "      <td>11.558279</td>\n",
       "      <td>31.997993</td>\n",
       "      <td>4.075075</td>\n",
       "      <td>0</td>\n",
       "    </tr>\n",
       "    <tr>\n",
       "      <th>5</th>\n",
       "      <td>5.584087</td>\n",
       "      <td>188.313324</td>\n",
       "      <td>28748.687739</td>\n",
       "      <td>7.544869</td>\n",
       "      <td>326.678363</td>\n",
       "      <td>280.467916</td>\n",
       "      <td>8.399735</td>\n",
       "      <td>54.917862</td>\n",
       "      <td>2.559708</td>\n",
       "      <td>0</td>\n",
       "    </tr>\n",
       "    <tr>\n",
       "      <th>6</th>\n",
       "      <td>10.223862</td>\n",
       "      <td>248.071735</td>\n",
       "      <td>28749.716544</td>\n",
       "      <td>7.513408</td>\n",
       "      <td>393.663396</td>\n",
       "      <td>283.651634</td>\n",
       "      <td>13.789695</td>\n",
       "      <td>84.603556</td>\n",
       "      <td>2.672989</td>\n",
       "      <td>0</td>\n",
       "    </tr>\n",
       "    <tr>\n",
       "      <th>7</th>\n",
       "      <td>8.635849</td>\n",
       "      <td>203.361523</td>\n",
       "      <td>13672.091764</td>\n",
       "      <td>4.563009</td>\n",
       "      <td>303.309771</td>\n",
       "      <td>474.607645</td>\n",
       "      <td>12.363817</td>\n",
       "      <td>62.798309</td>\n",
       "      <td>4.401425</td>\n",
       "      <td>0</td>\n",
       "    </tr>\n",
       "  </tbody>\n",
       "</table>\n",
       "</div>"
      ],
      "text/plain": [
       "          ph    Hardness        Solids  Chloramines     Sulfate  Conductivity  \\\n",
       "3   8.316766  214.373394  22018.417441     8.059332  356.886136    363.266516   \n",
       "4   9.092223  181.101509  17978.986339     6.546600  310.135738    398.410813   \n",
       "5   5.584087  188.313324  28748.687739     7.544869  326.678363    280.467916   \n",
       "6  10.223862  248.071735  28749.716544     7.513408  393.663396    283.651634   \n",
       "7   8.635849  203.361523  13672.091764     4.563009  303.309771    474.607645   \n",
       "\n",
       "   Organic_carbon  Trihalomethanes  Turbidity  Potability  \n",
       "3       18.436524       100.341674   4.628771           0  \n",
       "4       11.558279        31.997993   4.075075           0  \n",
       "5        8.399735        54.917862   2.559708           0  \n",
       "6       13.789695        84.603556   2.672989           0  \n",
       "7       12.363817        62.798309   4.401425           0  "
      ]
     },
     "execution_count": 104,
     "metadata": {},
     "output_type": "execute_result"
    }
   ],
   "source": [
    "df_new.head()"
   ]
  },
  {
   "cell_type": "code",
   "execution_count": 105,
   "id": "9244df61",
   "metadata": {
    "execution": {
     "iopub.execute_input": "2024-01-08T12:21:31.104619Z",
     "iopub.status.busy": "2024-01-08T12:21:31.104204Z",
     "iopub.status.idle": "2024-01-08T12:21:31.115918Z",
     "shell.execute_reply": "2024-01-08T12:21:31.114540Z"
    },
    "papermill": {
     "duration": 0.076093,
     "end_time": "2024-01-08T12:21:31.118740",
     "exception": false,
     "start_time": "2024-01-08T12:21:31.042647",
     "status": "completed"
    },
    "tags": []
   },
   "outputs": [
    {
     "data": {
      "text/plain": [
       "ph                 0\n",
       "Hardness           0\n",
       "Solids             0\n",
       "Chloramines        0\n",
       "Sulfate            0\n",
       "Conductivity       0\n",
       "Organic_carbon     0\n",
       "Trihalomethanes    0\n",
       "Turbidity          0\n",
       "Potability         0\n",
       "dtype: int64"
      ]
     },
     "execution_count": 105,
     "metadata": {},
     "output_type": "execute_result"
    }
   ],
   "source": [
    "df_new.isnull().sum()"
   ]
  },
  {
   "cell_type": "code",
   "execution_count": null,
   "id": "10342a7d",
   "metadata": {
    "papermill": {
     "duration": 0.059195,
     "end_time": "2024-01-08T12:21:31.238142",
     "exception": false,
     "start_time": "2024-01-08T12:21:31.178947",
     "status": "completed"
    },
    "tags": []
   },
   "outputs": [],
   "source": []
  },
  {
   "cell_type": "code",
   "execution_count": 106,
   "id": "147a9e9f",
   "metadata": {
    "execution": {
     "iopub.execute_input": "2024-01-08T12:21:31.359533Z",
     "iopub.status.busy": "2024-01-08T12:21:31.359068Z",
     "iopub.status.idle": "2024-01-08T12:21:31.365313Z",
     "shell.execute_reply": "2024-01-08T12:21:31.364559Z"
    },
    "papermill": {
     "duration": 0.069997,
     "end_time": "2024-01-08T12:21:31.367583",
     "exception": false,
     "start_time": "2024-01-08T12:21:31.297586",
     "status": "completed"
    },
    "tags": []
   },
   "outputs": [
    {
     "data": {
      "text/plain": [
       "(2011, 10)"
      ]
     },
     "execution_count": 106,
     "metadata": {},
     "output_type": "execute_result"
    }
   ],
   "source": [
    "df_new.shape"
   ]
  },
  {
   "cell_type": "code",
   "execution_count": null,
   "id": "76afb139",
   "metadata": {
    "papermill": {
     "duration": 0.062476,
     "end_time": "2024-01-08T12:21:31.490021",
     "exception": false,
     "start_time": "2024-01-08T12:21:31.427545",
     "status": "completed"
    },
    "tags": []
   },
   "outputs": [],
   "source": []
  },
  {
   "cell_type": "code",
   "execution_count": 107,
   "id": "4848971a",
   "metadata": {
    "execution": {
     "iopub.execute_input": "2024-01-08T12:21:31.612660Z",
     "iopub.status.busy": "2024-01-08T12:21:31.611830Z",
     "iopub.status.idle": "2024-01-08T12:21:31.627299Z",
     "shell.execute_reply": "2024-01-08T12:21:31.625661Z"
    },
    "papermill": {
     "duration": 0.080947,
     "end_time": "2024-01-08T12:21:31.631587",
     "exception": false,
     "start_time": "2024-01-08T12:21:31.550640",
     "status": "completed"
    },
    "tags": []
   },
   "outputs": [],
   "source": [
    "from sklearn.linear_model import LogisticRegression\n",
    "lr = LogisticRegression()\n",
    "lr.fit(X_train,y_train)\n",
    "y_pred = lr.predict(X_test)"
   ]
  },
  {
   "cell_type": "code",
   "execution_count": 108,
   "id": "3ce334fb",
   "metadata": {
    "execution": {
     "iopub.execute_input": "2024-01-08T12:21:31.815453Z",
     "iopub.status.busy": "2024-01-08T12:21:31.814111Z",
     "iopub.status.idle": "2024-01-08T12:21:31.821461Z",
     "shell.execute_reply": "2024-01-08T12:21:31.820626Z"
    },
    "papermill": {
     "duration": 0.071515,
     "end_time": "2024-01-08T12:21:31.823966",
     "exception": false,
     "start_time": "2024-01-08T12:21:31.752451",
     "status": "completed"
    },
    "tags": []
   },
   "outputs": [
    {
     "name": "stdout",
     "output_type": "stream",
     "text": [
      "Accuracy: 0.4966887417218543\n"
     ]
    }
   ],
   "source": [
    "from sklearn.metrics import accuracy_score\n",
    "accuracy = accuracy_score(y_test, y_pred)\n",
    "print(\"Accuracy:\", accuracy)"
   ]
  },
  {
   "cell_type": "code",
   "execution_count": 109,
   "id": "08dc8561",
   "metadata": {
    "execution": {
     "iopub.execute_input": "2024-01-08T12:21:31.946991Z",
     "iopub.status.busy": "2024-01-08T12:21:31.946499Z",
     "iopub.status.idle": "2024-01-08T12:21:32.115951Z",
     "shell.execute_reply": "2024-01-08T12:21:32.114936Z"
    },
    "papermill": {
     "duration": 0.234358,
     "end_time": "2024-01-08T12:21:32.118839",
     "exception": false,
     "start_time": "2024-01-08T12:21:31.884481",
     "status": "completed"
    },
    "tags": []
   },
   "outputs": [
    {
     "name": "stdout",
     "output_type": "stream",
     "text": [
      "Accuracy: 0.63\n"
     ]
    }
   ],
   "source": [
    "import xgboost as xgb\n",
    "from sklearn.metrics import accuracy_score\n",
    "\n",
    "model = xgb.XGBClassifier(\n",
    "   \n",
    ")\n",
    "\n",
    "model.fit(X_train, y_train)\n",
    "y_pred = model.predict(X_test)\n",
    "\n",
    "accuracy = accuracy_score(y_test, y_pred)\n",
    "print(f\"Accuracy: {accuracy:.2f}\")"
   ]
  },
  {
   "cell_type": "code",
   "execution_count": 110,
   "id": "ed783bce",
   "metadata": {
    "execution": {
     "iopub.execute_input": "2024-01-08T12:21:32.243033Z",
     "iopub.status.busy": "2024-01-08T12:21:32.241809Z",
     "iopub.status.idle": "2024-01-08T12:21:45.051767Z",
     "shell.execute_reply": "2024-01-08T12:21:45.049690Z"
    },
    "papermill": {
     "duration": 12.874255,
     "end_time": "2024-01-08T12:21:45.054507",
     "exception": false,
     "start_time": "2024-01-08T12:21:32.180252",
     "status": "completed"
    },
    "tags": []
   },
   "outputs": [
    {
     "name": "stdout",
     "output_type": "stream",
     "text": [
      "Epoch 1/50\n"
     ]
    },
    {
     "name": "stderr",
     "output_type": "stream",
     "text": [
      "c:\\Users\\santhosh\\AppData\\Local\\Programs\\Python\\Python311\\Lib\\site-packages\\keras\\src\\layers\\core\\dense.py:87: UserWarning: Do not pass an `input_shape`/`input_dim` argument to a layer. When using Sequential models, prefer using an `Input(shape)` object as the first layer in the model instead.\n",
      "  super().__init__(activity_regularizer=activity_regularizer, **kwargs)\n"
     ]
    },
    {
     "name": "stdout",
     "output_type": "stream",
     "text": [
      "\u001b[1m54/54\u001b[0m \u001b[32m━━━━━━━━━━━━━━━━━━━━\u001b[0m\u001b[37m\u001b[0m \u001b[1m2s\u001b[0m 6ms/step - accuracy: 0.5207 - loss: 0.8487 - val_accuracy: 0.5679 - val_loss: 0.6804\n",
      "Epoch 2/50\n",
      "\u001b[1m54/54\u001b[0m \u001b[32m━━━━━━━━━━━━━━━━━━━━\u001b[0m\u001b[37m\u001b[0m \u001b[1m0s\u001b[0m 4ms/step - accuracy: 0.5784 - loss: 0.7503 - val_accuracy: 0.5613 - val_loss: 0.6806\n",
      "Epoch 3/50\n",
      "\u001b[1m54/54\u001b[0m \u001b[32m━━━━━━━━━━━━━━━━━━━━\u001b[0m\u001b[37m\u001b[0m \u001b[1m0s\u001b[0m 4ms/step - accuracy: 0.5478 - loss: 0.7411 - val_accuracy: 0.5662 - val_loss: 0.6773\n",
      "Epoch 4/50\n",
      "\u001b[1m54/54\u001b[0m \u001b[32m━━━━━━━━━━━━━━━━━━━━\u001b[0m\u001b[37m\u001b[0m \u001b[1m0s\u001b[0m 4ms/step - accuracy: 0.5634 - loss: 0.7211 - val_accuracy: 0.5944 - val_loss: 0.6710\n",
      "Epoch 5/50\n",
      "\u001b[1m54/54\u001b[0m \u001b[32m━━━━━━━━━━━━━━━━━━━━\u001b[0m\u001b[37m\u001b[0m \u001b[1m0s\u001b[0m 5ms/step - accuracy: 0.5852 - loss: 0.6817 - val_accuracy: 0.6010 - val_loss: 0.6656\n",
      "Epoch 6/50\n",
      "\u001b[1m54/54\u001b[0m \u001b[32m━━━━━━━━━━━━━━━━━━━━\u001b[0m\u001b[37m\u001b[0m \u001b[1m0s\u001b[0m 4ms/step - accuracy: 0.5854 - loss: 0.6933 - val_accuracy: 0.5977 - val_loss: 0.6611\n",
      "Epoch 7/50\n",
      "\u001b[1m54/54\u001b[0m \u001b[32m━━━━━━━━━━━━━━━━━━━━\u001b[0m\u001b[37m\u001b[0m \u001b[1m0s\u001b[0m 4ms/step - accuracy: 0.6021 - loss: 0.6720 - val_accuracy: 0.6093 - val_loss: 0.6549\n",
      "Epoch 8/50\n",
      "\u001b[1m54/54\u001b[0m \u001b[32m━━━━━━━━━━━━━━━━━━━━\u001b[0m\u001b[37m\u001b[0m \u001b[1m0s\u001b[0m 4ms/step - accuracy: 0.6355 - loss: 0.6414 - val_accuracy: 0.6142 - val_loss: 0.6559\n",
      "Epoch 9/50\n",
      "\u001b[1m54/54\u001b[0m \u001b[32m━━━━━━━━━━━━━━━━━━━━\u001b[0m\u001b[37m\u001b[0m \u001b[1m0s\u001b[0m 4ms/step - accuracy: 0.6342 - loss: 0.6495 - val_accuracy: 0.6175 - val_loss: 0.6555\n",
      "Epoch 10/50\n",
      "\u001b[1m54/54\u001b[0m \u001b[32m━━━━━━━━━━━━━━━━━━━━\u001b[0m\u001b[37m\u001b[0m \u001b[1m0s\u001b[0m 4ms/step - accuracy: 0.5972 - loss: 0.6755 - val_accuracy: 0.6209 - val_loss: 0.6532\n",
      "Epoch 11/50\n",
      "\u001b[1m54/54\u001b[0m \u001b[32m━━━━━━━━━━━━━━━━━━━━\u001b[0m\u001b[37m\u001b[0m \u001b[1m0s\u001b[0m 4ms/step - accuracy: 0.6072 - loss: 0.6609 - val_accuracy: 0.6308 - val_loss: 0.6493\n",
      "Epoch 12/50\n",
      "\u001b[1m54/54\u001b[0m \u001b[32m━━━━━━━━━━━━━━━━━━━━\u001b[0m\u001b[37m\u001b[0m \u001b[1m0s\u001b[0m 5ms/step - accuracy: 0.6197 - loss: 0.6547 - val_accuracy: 0.6291 - val_loss: 0.6466\n",
      "Epoch 13/50\n",
      "\u001b[1m54/54\u001b[0m \u001b[32m━━━━━━━━━━━━━━━━━━━━\u001b[0m\u001b[37m\u001b[0m \u001b[1m0s\u001b[0m 5ms/step - accuracy: 0.6194 - loss: 0.6520 - val_accuracy: 0.6341 - val_loss: 0.6454\n",
      "Epoch 14/50\n",
      "\u001b[1m54/54\u001b[0m \u001b[32m━━━━━━━━━━━━━━━━━━━━\u001b[0m\u001b[37m\u001b[0m \u001b[1m0s\u001b[0m 5ms/step - accuracy: 0.6230 - loss: 0.6566 - val_accuracy: 0.6374 - val_loss: 0.6443\n",
      "Epoch 15/50\n",
      "\u001b[1m54/54\u001b[0m \u001b[32m━━━━━━━━━━━━━━━━━━━━\u001b[0m\u001b[37m\u001b[0m \u001b[1m0s\u001b[0m 5ms/step - accuracy: 0.6351 - loss: 0.6277 - val_accuracy: 0.6358 - val_loss: 0.6427\n",
      "Epoch 16/50\n",
      "\u001b[1m54/54\u001b[0m \u001b[32m━━━━━━━━━━━━━━━━━━━━\u001b[0m\u001b[37m\u001b[0m \u001b[1m0s\u001b[0m 5ms/step - accuracy: 0.6540 - loss: 0.6155 - val_accuracy: 0.6424 - val_loss: 0.6370\n",
      "Epoch 17/50\n",
      "\u001b[1m54/54\u001b[0m \u001b[32m━━━━━━━━━━━━━━━━━━━━\u001b[0m\u001b[37m\u001b[0m \u001b[1m0s\u001b[0m 4ms/step - accuracy: 0.6207 - loss: 0.6492 - val_accuracy: 0.6424 - val_loss: 0.6375\n",
      "Epoch 18/50\n",
      "\u001b[1m54/54\u001b[0m \u001b[32m━━━━━━━━━━━━━━━━━━━━\u001b[0m\u001b[37m\u001b[0m \u001b[1m0s\u001b[0m 5ms/step - accuracy: 0.6423 - loss: 0.6370 - val_accuracy: 0.6358 - val_loss: 0.6355\n",
      "Epoch 19/50\n",
      "\u001b[1m54/54\u001b[0m \u001b[32m━━━━━━━━━━━━━━━━━━━━\u001b[0m\u001b[37m\u001b[0m \u001b[1m0s\u001b[0m 4ms/step - accuracy: 0.6367 - loss: 0.6244 - val_accuracy: 0.6391 - val_loss: 0.6360\n",
      "Epoch 20/50\n",
      "\u001b[1m54/54\u001b[0m \u001b[32m━━━━━━━━━━━━━━━━━━━━\u001b[0m\u001b[37m\u001b[0m \u001b[1m0s\u001b[0m 5ms/step - accuracy: 0.6585 - loss: 0.6219 - val_accuracy: 0.6407 - val_loss: 0.6358\n",
      "Epoch 21/50\n",
      "\u001b[1m54/54\u001b[0m \u001b[32m━━━━━━━━━━━━━━━━━━━━\u001b[0m\u001b[37m\u001b[0m \u001b[1m0s\u001b[0m 5ms/step - accuracy: 0.6393 - loss: 0.6341 - val_accuracy: 0.6358 - val_loss: 0.6352\n",
      "Epoch 22/50\n",
      "\u001b[1m54/54\u001b[0m \u001b[32m━━━━━━━━━━━━━━━━━━━━\u001b[0m\u001b[37m\u001b[0m \u001b[1m0s\u001b[0m 5ms/step - accuracy: 0.6334 - loss: 0.6253 - val_accuracy: 0.6407 - val_loss: 0.6331\n",
      "Epoch 23/50\n",
      "\u001b[1m54/54\u001b[0m \u001b[32m━━━━━━━━━━━━━━━━━━━━\u001b[0m\u001b[37m\u001b[0m \u001b[1m0s\u001b[0m 5ms/step - accuracy: 0.6292 - loss: 0.6196 - val_accuracy: 0.6391 - val_loss: 0.6313\n",
      "Epoch 24/50\n",
      "\u001b[1m54/54\u001b[0m \u001b[32m━━━━━━━━━━━━━━━━━━━━\u001b[0m\u001b[37m\u001b[0m \u001b[1m0s\u001b[0m 4ms/step - accuracy: 0.6538 - loss: 0.6086 - val_accuracy: 0.6258 - val_loss: 0.6323\n",
      "Epoch 25/50\n",
      "\u001b[1m54/54\u001b[0m \u001b[32m━━━━━━━━━━━━━━━━━━━━\u001b[0m\u001b[37m\u001b[0m \u001b[1m0s\u001b[0m 5ms/step - accuracy: 0.6547 - loss: 0.6141 - val_accuracy: 0.6358 - val_loss: 0.6321\n",
      "Epoch 26/50\n",
      "\u001b[1m54/54\u001b[0m \u001b[32m━━━━━━━━━━━━━━━━━━━━\u001b[0m\u001b[37m\u001b[0m \u001b[1m0s\u001b[0m 5ms/step - accuracy: 0.6610 - loss: 0.6039 - val_accuracy: 0.6325 - val_loss: 0.6327\n",
      "Epoch 27/50\n",
      "\u001b[1m54/54\u001b[0m \u001b[32m━━━━━━━━━━━━━━━━━━━━\u001b[0m\u001b[37m\u001b[0m \u001b[1m0s\u001b[0m 4ms/step - accuracy: 0.6758 - loss: 0.5902 - val_accuracy: 0.6407 - val_loss: 0.6315\n",
      "Epoch 28/50\n",
      "\u001b[1m54/54\u001b[0m \u001b[32m━━━━━━━━━━━━━━━━━━━━\u001b[0m\u001b[37m\u001b[0m \u001b[1m0s\u001b[0m 5ms/step - accuracy: 0.6411 - loss: 0.6150 - val_accuracy: 0.6308 - val_loss: 0.6329\n",
      "Epoch 29/50\n",
      "\u001b[1m54/54\u001b[0m \u001b[32m━━━━━━━━━━━━━━━━━━━━\u001b[0m\u001b[37m\u001b[0m \u001b[1m0s\u001b[0m 5ms/step - accuracy: 0.6839 - loss: 0.5994 - val_accuracy: 0.6341 - val_loss: 0.6325\n",
      "Epoch 30/50\n",
      "\u001b[1m54/54\u001b[0m \u001b[32m━━━━━━━━━━━━━━━━━━━━\u001b[0m\u001b[37m\u001b[0m \u001b[1m0s\u001b[0m 4ms/step - accuracy: 0.6619 - loss: 0.6037 - val_accuracy: 0.6358 - val_loss: 0.6325\n",
      "Epoch 31/50\n",
      "\u001b[1m54/54\u001b[0m \u001b[32m━━━━━━━━━━━━━━━━━━━━\u001b[0m\u001b[37m\u001b[0m \u001b[1m0s\u001b[0m 4ms/step - accuracy: 0.6689 - loss: 0.6166 - val_accuracy: 0.6374 - val_loss: 0.6323\n",
      "Epoch 32/50\n",
      "\u001b[1m54/54\u001b[0m \u001b[32m━━━━━━━━━━━━━━━━━━━━\u001b[0m\u001b[37m\u001b[0m \u001b[1m0s\u001b[0m 4ms/step - accuracy: 0.6525 - loss: 0.6154 - val_accuracy: 0.6457 - val_loss: 0.6315\n",
      "Epoch 33/50\n",
      "\u001b[1m54/54\u001b[0m \u001b[32m━━━━━━━━━━━━━━━━━━━━\u001b[0m\u001b[37m\u001b[0m \u001b[1m0s\u001b[0m 4ms/step - accuracy: 0.6634 - loss: 0.6001 - val_accuracy: 0.6341 - val_loss: 0.6308\n",
      "Epoch 34/50\n",
      "\u001b[1m54/54\u001b[0m \u001b[32m━━━━━━━━━━━━━━━━━━━━\u001b[0m\u001b[37m\u001b[0m \u001b[1m0s\u001b[0m 4ms/step - accuracy: 0.6766 - loss: 0.5962 - val_accuracy: 0.6358 - val_loss: 0.6292\n",
      "Epoch 35/50\n",
      "\u001b[1m54/54\u001b[0m \u001b[32m━━━━━━━━━━━━━━━━━━━━\u001b[0m\u001b[37m\u001b[0m \u001b[1m0s\u001b[0m 4ms/step - accuracy: 0.6581 - loss: 0.6168 - val_accuracy: 0.6407 - val_loss: 0.6300\n",
      "Epoch 36/50\n",
      "\u001b[1m54/54\u001b[0m \u001b[32m━━━━━━━━━━━━━━━━━━━━\u001b[0m\u001b[37m\u001b[0m \u001b[1m0s\u001b[0m 4ms/step - accuracy: 0.6600 - loss: 0.6053 - val_accuracy: 0.6391 - val_loss: 0.6307\n",
      "Epoch 37/50\n",
      "\u001b[1m54/54\u001b[0m \u001b[32m━━━━━━━━━━━━━━━━━━━━\u001b[0m\u001b[37m\u001b[0m \u001b[1m0s\u001b[0m 4ms/step - accuracy: 0.6777 - loss: 0.5841 - val_accuracy: 0.6507 - val_loss: 0.6292\n",
      "Epoch 38/50\n",
      "\u001b[1m54/54\u001b[0m \u001b[32m━━━━━━━━━━━━━━━━━━━━\u001b[0m\u001b[37m\u001b[0m \u001b[1m0s\u001b[0m 4ms/step - accuracy: 0.6632 - loss: 0.6058 - val_accuracy: 0.6507 - val_loss: 0.6308\n",
      "Epoch 39/50\n",
      "\u001b[1m54/54\u001b[0m \u001b[32m━━━━━━━━━━━━━━━━━━━━\u001b[0m\u001b[37m\u001b[0m \u001b[1m0s\u001b[0m 4ms/step - accuracy: 0.6528 - loss: 0.6140 - val_accuracy: 0.6589 - val_loss: 0.6304\n",
      "Epoch 40/50\n",
      "\u001b[1m54/54\u001b[0m \u001b[32m━━━━━━━━━━━━━━━━━━━━\u001b[0m\u001b[37m\u001b[0m \u001b[1m0s\u001b[0m 4ms/step - accuracy: 0.6635 - loss: 0.5971 - val_accuracy: 0.6573 - val_loss: 0.6306\n",
      "Epoch 41/50\n",
      "\u001b[1m54/54\u001b[0m \u001b[32m━━━━━━━━━━━━━━━━━━━━\u001b[0m\u001b[37m\u001b[0m \u001b[1m0s\u001b[0m 4ms/step - accuracy: 0.6626 - loss: 0.5947 - val_accuracy: 0.6523 - val_loss: 0.6320\n",
      "Epoch 42/50\n",
      "\u001b[1m54/54\u001b[0m \u001b[32m━━━━━━━━━━━━━━━━━━━━\u001b[0m\u001b[37m\u001b[0m \u001b[1m0s\u001b[0m 4ms/step - accuracy: 0.6638 - loss: 0.6201 - val_accuracy: 0.6507 - val_loss: 0.6307\n",
      "Epoch 43/50\n",
      "\u001b[1m54/54\u001b[0m \u001b[32m━━━━━━━━━━━━━━━━━━━━\u001b[0m\u001b[37m\u001b[0m \u001b[1m0s\u001b[0m 4ms/step - accuracy: 0.6459 - loss: 0.6000 - val_accuracy: 0.6457 - val_loss: 0.6289\n",
      "Epoch 44/50\n",
      "\u001b[1m54/54\u001b[0m \u001b[32m━━━━━━━━━━━━━━━━━━━━\u001b[0m\u001b[37m\u001b[0m \u001b[1m0s\u001b[0m 4ms/step - accuracy: 0.6674 - loss: 0.5862 - val_accuracy: 0.6474 - val_loss: 0.6295\n",
      "Epoch 45/50\n",
      "\u001b[1m54/54\u001b[0m \u001b[32m━━━━━━━━━━━━━━━━━━━━\u001b[0m\u001b[37m\u001b[0m \u001b[1m0s\u001b[0m 4ms/step - accuracy: 0.6499 - loss: 0.6145 - val_accuracy: 0.6540 - val_loss: 0.6287\n",
      "Epoch 46/50\n",
      "\u001b[1m54/54\u001b[0m \u001b[32m━━━━━━━━━━━━━━━━━━━━\u001b[0m\u001b[37m\u001b[0m \u001b[1m0s\u001b[0m 4ms/step - accuracy: 0.6801 - loss: 0.5751 - val_accuracy: 0.6490 - val_loss: 0.6286\n",
      "Epoch 47/50\n",
      "\u001b[1m54/54\u001b[0m \u001b[32m━━━━━━━━━━━━━━━━━━━━\u001b[0m\u001b[37m\u001b[0m \u001b[1m0s\u001b[0m 4ms/step - accuracy: 0.6622 - loss: 0.5903 - val_accuracy: 0.6656 - val_loss: 0.6276\n",
      "Epoch 48/50\n",
      "\u001b[1m54/54\u001b[0m \u001b[32m━━━━━━━━━━━━━━━━━━━━\u001b[0m\u001b[37m\u001b[0m \u001b[1m0s\u001b[0m 4ms/step - accuracy: 0.6585 - loss: 0.5965 - val_accuracy: 0.6623 - val_loss: 0.6292\n",
      "Epoch 49/50\n",
      "\u001b[1m54/54\u001b[0m \u001b[32m━━━━━━━━━━━━━━━━━━━━\u001b[0m\u001b[37m\u001b[0m \u001b[1m0s\u001b[0m 4ms/step - accuracy: 0.6976 - loss: 0.5884 - val_accuracy: 0.6556 - val_loss: 0.6303\n",
      "Epoch 50/50\n",
      "\u001b[1m54/54\u001b[0m \u001b[32m━━━━━━━━━━━━━━━━━━━━\u001b[0m\u001b[37m\u001b[0m \u001b[1m0s\u001b[0m 4ms/step - accuracy: 0.6746 - loss: 0.5877 - val_accuracy: 0.6507 - val_loss: 0.6322\n",
      "\u001b[1m19/19\u001b[0m \u001b[32m━━━━━━━━━━━━━━━━━━━━\u001b[0m\u001b[37m\u001b[0m \u001b[1m0s\u001b[0m 4ms/step\n",
      "Accuracy: 0.65\n"
     ]
    }
   ],
   "source": [
    "import tensorflow as tf\n",
    "from tensorflow.keras import layers, models\n",
    "from tensorflow.keras.optimizers import SGD\n",
    "from tensorflow.keras.callbacks import EarlyStopping\n",
    "from sklearn.model_selection import train_test_split\n",
    "from sklearn.metrics import accuracy_score\n",
    "\n",
    "model = models.Sequential()\n",
    "model.add(layers.Dense(128, activation='relu', input_shape=(X_train.shape[1],)))\n",
    "model.add(layers.BatchNormalization())\n",
    "model.add(layers.Dropout(0.5))\n",
    "model.add(layers.Dense(64, activation='relu'))\n",
    "model.add(layers.BatchNormalization())\n",
    "model.add(layers.Dense(1, activation='sigmoid'))  # For binary classification\n",
    "\n",
    "# Compile the model with SGD optimizer and a specific learning rate\n",
    "optimizer = SGD(learning_rate=0.01)\n",
    "model.compile(optimizer=optimizer, loss='binary_crossentropy', metrics=['accuracy'])\n",
    "\n",
    "# Early stopping callback to stop training if validation loss doesn't improve\n",
    "\n",
    "# Train the model on the training data\n",
    "model.fit(X_train, y_train, epochs=50, batch_size=32, validation_data=(X_test, y_test))\n",
    "\n",
    "# Make predictions on the testing data\n",
    "y_pred_prob = model.predict(X_test)\n",
    "y_pred = (y_pred_prob > 0.5).astype(int)  \n",
    "\n",
    "# Evaluate the accuracy of the model\n",
    "accuracy = accuracy_score(y_test, y_pred)\n",
    "print(f\"Accuracy: {accuracy:.2f}\")"
   ]
  },
  {
   "cell_type": "code",
   "execution_count": 111,
   "id": "3eb1c000",
   "metadata": {
    "execution": {
     "iopub.execute_input": "2024-01-08T12:21:45.225465Z",
     "iopub.status.busy": "2024-01-08T12:21:45.224982Z",
     "iopub.status.idle": "2024-01-08T12:21:45.255711Z",
     "shell.execute_reply": "2024-01-08T12:21:45.254574Z"
    },
    "papermill": {
     "duration": 0.120749,
     "end_time": "2024-01-08T12:21:45.258720",
     "exception": false,
     "start_time": "2024-01-08T12:21:45.137971",
     "status": "completed"
    },
    "tags": []
   },
   "outputs": [
    {
     "name": "stdout",
     "output_type": "stream",
     "text": [
      "0.8741721854304636\n"
     ]
    }
   ],
   "source": [
    "from sklearn.naive_bayes import GaussianNB\n",
    "nn = GaussianNB()\n",
    "nn.fit(X_train,y_train)\n",
    "y_pred = rfc.predict(X_test)\n",
    "print(accuracy_score(y_pred,y_test))"
   ]
  },
  {
   "cell_type": "code",
   "execution_count": 112,
   "id": "2144119f",
   "metadata": {
    "execution": {
     "iopub.execute_input": "2024-01-08T12:21:45.432126Z",
     "iopub.status.busy": "2024-01-08T12:21:45.431685Z",
     "iopub.status.idle": "2024-01-08T12:21:45.441670Z",
     "shell.execute_reply": "2024-01-08T12:21:45.440351Z"
    },
    "papermill": {
     "duration": 0.099751,
     "end_time": "2024-01-08T12:21:45.444280",
     "exception": false,
     "start_time": "2024-01-08T12:21:45.344529",
     "status": "completed"
    },
    "tags": []
   },
   "outputs": [
    {
     "data": {
      "text/plain": [
       "Potability\n",
       "0    1998\n",
       "1    1278\n",
       "Name: count, dtype: int64"
      ]
     },
     "execution_count": 112,
     "metadata": {},
     "output_type": "execute_result"
    }
   ],
   "source": [
    "df.Potability.value_counts()"
   ]
  },
  {
   "cell_type": "code",
   "execution_count": 113,
   "id": "c8e75cef",
   "metadata": {
    "execution": {
     "iopub.execute_input": "2024-01-08T12:21:45.617709Z",
     "iopub.status.busy": "2024-01-08T12:21:45.616764Z",
     "iopub.status.idle": "2024-01-08T12:21:45.630247Z",
     "shell.execute_reply": "2024-01-08T12:21:45.628479Z"
    },
    "papermill": {
     "duration": 0.101969,
     "end_time": "2024-01-08T12:21:45.632931",
     "exception": false,
     "start_time": "2024-01-08T12:21:45.530962",
     "status": "completed"
    },
    "tags": []
   },
   "outputs": [
    {
     "name": "stdout",
     "output_type": "stream",
     "text": [
      "0.6009933774834437\n"
     ]
    }
   ],
   "source": [
    "### as the GuassianNB is giving 90+ % accuracy so i will hypertune it and see how i can increase\n",
    "priors = [0.6090618336886994, 0.3909381663113006]\n",
    "gnb = GaussianNB(priors=priors)\n",
    "gnb.fit(X_train, y_train)\n",
    "y_pred = gnb.predict(X_test)\n",
    "accuracy = accuracy_score(y_test, y_pred)\n",
    "print(accuracy_score(y_pred,y_test))"
   ]
  },
  {
   "cell_type": "code",
   "execution_count": 114,
   "id": "75e75d0f",
   "metadata": {
    "execution": {
     "iopub.execute_input": "2024-01-08T12:21:45.805030Z",
     "iopub.status.busy": "2024-01-08T12:21:45.803771Z",
     "iopub.status.idle": "2024-01-08T12:21:45.825015Z",
     "shell.execute_reply": "2024-01-08T12:21:45.823739Z"
    },
    "papermill": {
     "duration": 0.110101,
     "end_time": "2024-01-08T12:21:45.828079",
     "exception": false,
     "start_time": "2024-01-08T12:21:45.717978",
     "status": "completed"
    },
    "tags": []
   },
   "outputs": [
    {
     "name": "stdout",
     "output_type": "stream",
     "text": [
      "Accuracy: 0.4900662251655629\n"
     ]
    }
   ],
   "source": [
    "from sklearn.preprocessing import KBinsDiscretizer\n",
    "\n",
    "# Assuming X_train and X_test are your input features\n",
    "\n",
    "# Use KBinsDiscretizer to discretize continuous features\n",
    "kbd = KBinsDiscretizer(n_bins=10, encode='ordinal', strategy='uniform')\n",
    "X_train_discrete = kbd.fit_transform(X_train)\n",
    "X_test_discrete = kbd.transform(X_test)\n",
    "\n",
    "# Now, train and predict using ComplementNB with the discrete features\n",
    "from sklearn.naive_bayes import ComplementNB\n",
    "clf = ComplementNB()\n",
    "clf.fit(X_train_discrete, y_train)\n",
    "y_pred = clf.predict(X_test_discrete)\n",
    "accuracy = accuracy_score(y_test, y_pred)\n",
    "print(\"Accuracy:\", accuracy)\n"
   ]
  },
  {
   "cell_type": "code",
   "execution_count": 115,
   "id": "d855dfa1",
   "metadata": {
    "execution": {
     "iopub.execute_input": "2024-01-08T12:21:45.999784Z",
     "iopub.status.busy": "2024-01-08T12:21:45.999068Z",
     "iopub.status.idle": "2024-01-08T12:21:46.175532Z",
     "shell.execute_reply": "2024-01-08T12:21:46.173728Z"
    },
    "papermill": {
     "duration": 0.265334,
     "end_time": "2024-01-08T12:21:46.178375",
     "exception": false,
     "start_time": "2024-01-08T12:21:45.913041",
     "status": "completed"
    },
    "tags": []
   },
   "outputs": [
    {
     "name": "stdout",
     "output_type": "stream",
     "text": [
      "Accuracy: 0.65\n"
     ]
    }
   ],
   "source": [
    "from sklearn import svm\n",
    "clf = svm.SVC(kernel='rbf')\n",
    "clf.fit(X_train, y_train)\n",
    "y_pred = clf.predict(X_test)\n",
    "accuracy = accuracy_score(y_test, y_pred)\n",
    "print(f\"Accuracy: {accuracy:.2f}\")"
   ]
  },
  {
   "cell_type": "code",
   "execution_count": 116,
   "id": "16b2eed3",
   "metadata": {
    "execution": {
     "iopub.execute_input": "2024-01-08T12:21:46.350915Z",
     "iopub.status.busy": "2024-01-08T12:21:46.350498Z",
     "iopub.status.idle": "2024-01-08T12:21:47.136119Z",
     "shell.execute_reply": "2024-01-08T12:21:47.134968Z"
    },
    "papermill": {
     "duration": 0.875189,
     "end_time": "2024-01-08T12:21:47.138740",
     "exception": false,
     "start_time": "2024-01-08T12:21:46.263551",
     "status": "completed"
    },
    "tags": []
   },
   "outputs": [
    {
     "name": "stdout",
     "output_type": "stream",
     "text": [
      "0.6456953642384106\n"
     ]
    }
   ],
   "source": [
    "from sklearn.ensemble import RandomForestClassifier\n",
    "rfc = RandomForestClassifier()\n",
    "rfc.fit(X_train,y_train)\n",
    "y_pred = rfc.predict(X_test)\n",
    "print(accuracy_score(y_pred,y_test))"
   ]
  },
  {
   "cell_type": "code",
   "execution_count": 117,
   "id": "18f1979b",
   "metadata": {
    "execution": {
     "iopub.execute_input": "2024-01-08T12:21:47.313774Z",
     "iopub.status.busy": "2024-01-08T12:21:47.313353Z",
     "iopub.status.idle": "2024-01-08T12:21:47.344052Z",
     "shell.execute_reply": "2024-01-08T12:21:47.342456Z"
    },
    "papermill": {
     "duration": 0.12031,
     "end_time": "2024-01-08T12:21:47.346850",
     "exception": false,
     "start_time": "2024-01-08T12:21:47.226540",
     "status": "completed"
    },
    "tags": []
   },
   "outputs": [
    {
     "name": "stdout",
     "output_type": "stream",
     "text": [
      "0.5860927152317881\n"
     ]
    }
   ],
   "source": [
    "from sklearn.tree import DecisionTreeClassifier\n",
    "dt = DecisionTreeClassifier()\n",
    "dt.fit(X_train,y_train)\n",
    "y_pred = dt.predict(X_test)\n",
    "print(accuracy_score(y_pred,y_test))"
   ]
  },
  {
   "cell_type": "code",
   "execution_count": 118,
   "id": "c232050c",
   "metadata": {
    "execution": {
     "iopub.execute_input": "2024-01-08T12:21:47.517387Z",
     "iopub.status.busy": "2024-01-08T12:21:47.516958Z",
     "iopub.status.idle": "2024-01-08T12:21:47.536034Z",
     "shell.execute_reply": "2024-01-08T12:21:47.534459Z"
    },
    "papermill": {
     "duration": 0.109111,
     "end_time": "2024-01-08T12:21:47.540355",
     "exception": false,
     "start_time": "2024-01-08T12:21:47.431244",
     "status": "completed"
    },
    "tags": []
   },
   "outputs": [
    {
     "name": "stdout",
     "output_type": "stream",
     "text": [
      "0.4966887417218543\n"
     ]
    }
   ],
   "source": [
    "from sklearn.linear_model import LogisticRegression\n",
    "lr = LogisticRegression()\n",
    "lr.fit(X_train,y_train)\n",
    "y_pred = lr.predict(X_test)\n",
    "print(accuracy_score(y_pred,y_test))"
   ]
  },
  {
   "cell_type": "code",
   "execution_count": 119,
   "id": "057846e0",
   "metadata": {
    "execution": {
     "iopub.execute_input": "2024-01-08T12:21:47.770090Z",
     "iopub.status.busy": "2024-01-08T12:21:47.769656Z",
     "iopub.status.idle": "2024-01-08T12:21:48.552384Z",
     "shell.execute_reply": "2024-01-08T12:21:48.550959Z"
    },
    "papermill": {
     "duration": 0.872546,
     "end_time": "2024-01-08T12:21:48.555125",
     "exception": false,
     "start_time": "2024-01-08T12:21:47.682579",
     "status": "completed"
    },
    "tags": []
   },
   "outputs": [
    {
     "name": "stdout",
     "output_type": "stream",
     "text": [
      "Accuracy: 0.6490066225165563\n"
     ]
    }
   ],
   "source": [
    "from sklearn.ensemble import RandomForestClassifier\n",
    "from sklearn.metrics import accuracy_score\n",
    "\n",
    "clf = RandomForestClassifier(n_estimators=100, random_state=42)\n",
    "clf.fit(X_train, y_train)\n",
    "y_pred = clf.predict(X_test)\n",
    "accuracy = accuracy_score(y_test, y_pred)\n",
    "print(\"Accuracy:\", accuracy)\n"
   ]
  },
  {
   "cell_type": "markdown",
   "id": "5c156582",
   "metadata": {
    "execution": {
     "iopub.execute_input": "2024-01-08T12:16:58.488955Z",
     "iopub.status.busy": "2024-01-08T12:16:58.488510Z",
     "iopub.status.idle": "2024-01-08T12:16:58.499363Z",
     "shell.execute_reply": "2024-01-08T12:16:58.496885Z",
     "shell.execute_reply.started": "2024-01-08T12:16:58.488920Z"
    },
    "papermill": {
     "duration": 0.088309,
     "end_time": "2024-01-08T12:21:48.729900",
     "exception": false,
     "start_time": "2024-01-08T12:21:48.641591",
     "status": "completed"
    },
    "tags": []
   },
   "source": [
    "#### atlast Guassian Naive Bayes is giving 91 % accuracy ,i tried to make more simply ,did,n't used function to reduce the abstraction"
   ]
  },
  {
   "cell_type": "code",
   "execution_count": 120,
   "id": "9f06fbbf",
   "metadata": {},
   "outputs": [
    {
     "name": "stdout",
     "output_type": "stream",
     "text": [
      "Model Accuracy: 0.64\n",
      "Predicted Potability: Safe (Confidence: 0.79)\n"
     ]
    }
   ],
   "source": [
    "import pandas as pd\n",
    "import numpy as np\n",
    "from sklearn.model_selection import train_test_split\n",
    "from sklearn.preprocessing import StandardScaler\n",
    "from xgboost import XGBClassifier\n",
    "from sklearn.metrics import accuracy_score\n",
    "\n",
    "def load_and_preprocess_data():\n",
    "    # Load dataset\n",
    "    df = pd.read_csv('./water_potability.csv')\n",
    "    # Handling missing values (fill with median)\n",
    "    df.fillna(df.median(), inplace=True)\n",
    "    return df\n",
    "\n",
    "def train_model(df):\n",
    "    # Splitting data into features and target\n",
    "    X = df.drop(columns=['Potability'])  # Features\n",
    "    y = df['Potability']  # Target variable\n",
    "    \n",
    "    # Feature scaling\n",
    "    scaler = StandardScaler()\n",
    "    X_scaled = scaler.fit_transform(X)\n",
    "    \n",
    "    # Train-test split\n",
    "    X_train, X_test, y_train, y_test = train_test_split(X_scaled, y, test_size=0.2, random_state=42)\n",
    "    \n",
    "    # Model training with XGBoost\n",
    "    model = XGBClassifier(n_estimators=300, max_depth=10, learning_rate=0.05, random_state=42)\n",
    "    model.fit(X_train, y_train)\n",
    "    \n",
    "    # Predictions and accuracy\n",
    "    y_pred = model.predict(X_test)\n",
    "    accuracy = accuracy_score(y_test, y_pred)\n",
    "    print(f'Model Accuracy: {accuracy:.2f}')\n",
    "    \n",
    "    return model, scaler\n",
    "\n",
    "def predict_water_quality(model, scaler):\n",
    "    \"\"\"Takes user input and predicts water potability.\"\"\"\n",
    "    user_input = {}\n",
    "    feature_names = ['ph', 'Hardness', 'Solids', 'Chloramines', 'Sulfate', 'Conductivity', 'Organic_carbon', 'Trihalomethanes', 'Turbidity']\n",
    "    \n",
    "    for col in feature_names:\n",
    "        user_input[col] = float(input(f'Enter value for {col}: '))\n",
    "    \n",
    "    df_input = pd.DataFrame([user_input], columns=feature_names)\n",
    "    df_input_scaled = scaler.transform(df_input)\n",
    "    prediction_proba = model.predict_proba(df_input_scaled)[0]\n",
    "    prediction = 1 if prediction_proba[1] > 0.7 else 0  # Adjust threshold to 0.7\n",
    "    \n",
    "    print(f'Predicted Potability: {\"Safe\" if prediction == 1 else \"Not Safe\"} (Confidence: {prediction_proba[1]:.2f})')\n",
    "\n",
    "if __name__ == \"__main__\":\n",
    "    df = load_and_preprocess_data()\n",
    "    model, scaler = train_model(df)\n",
    "    predict_water_quality(model, scaler)"
   ]
  },
  {
   "cell_type": "code",
   "execution_count": 121,
   "id": "1c1a254e",
   "metadata": {},
   "outputs": [
    {
     "name": "stdout",
     "output_type": "stream",
     "text": [
      "Model Accuracy: 0.66\n"
     ]
    },
    {
     "data": {
      "image/png": "[encoded data removed]",
      "text/plain": [
       "<Figure size 1000x600 with 1 Axes>"
      ]
     },
     "metadata": {},
     "output_type": "display_data"
    },
    {
     "name": "stdout",
     "output_type": "stream",
     "text": [
      "Predicted Potability: Safe (Confidence: 0.62)\n"
     ]
    }
   ],
   "source": [
    "import pandas as pd\n",
    "import numpy as np\n",
    "from sklearn.model_selection import train_test_split\n",
    "from sklearn.preprocessing import StandardScaler\n",
    "from xgboost import XGBClassifier\n",
    "from sklearn.metrics import accuracy_score\n",
    "import matplotlib.pyplot as plt\n",
    "\n",
    "def load_and_preprocess_data():\n",
    "    # Load dataset\n",
    "    df = pd.read_csv('./water_potability.csv')\n",
    "    # Handling missing values (fill with median)\n",
    "    df.fillna(df.median(), inplace=True)\n",
    "    return df\n",
    "\n",
    "def train_model(df):\n",
    "    # Splitting data into features and target\n",
    "    X = df.drop(columns=['Potability'])  # Features\n",
    "    y = df['Potability']  # Target variable\n",
    "    \n",
    "    # Feature scaling\n",
    "    scaler = StandardScaler()\n",
    "    X_scaled = scaler.fit_transform(X)\n",
    "    \n",
    "    # Train-test split\n",
    "    X_train, X_test, y_train, y_test = train_test_split(X_scaled, y, test_size=0.2, random_state=42)\n",
    "    \n",
    "    # Model training with optimized XGBoost\n",
    "    model = XGBClassifier(n_estimators=500, max_depth=12, learning_rate=0.03, colsample_bytree=0.8, gamma=0.2, random_state=42)\n",
    "    model.fit(X_train, y_train)\n",
    "    \n",
    "    # Predictions and accuracy\n",
    "    y_pred = model.predict(X_test)\n",
    "    accuracy = accuracy_score(y_test, y_pred)\n",
    "    print(f'Model Accuracy: {accuracy:.2f}')\n",
    "    \n",
    "    # Feature Importance Analysis\n",
    "    feature_importance = model.feature_importances_\n",
    "    plt.figure(figsize=(10, 6))\n",
    "    plt.barh(df.drop(columns=['Potability']).columns, feature_importance)\n",
    "    plt.xlabel('Feature Importance')\n",
    "    plt.ylabel('Features')\n",
    "    plt.title('Feature Importance Analysis')\n",
    "    plt.show()\n",
    "    \n",
    "    return model, scaler\n",
    "\n",
    "def predict_water_quality(model, scaler):\n",
    "    \"\"\"Takes user input and predicts water potability with dynamic confidence.\"\"\"\n",
    "    user_input = {}\n",
    "    feature_names = ['ph', 'Hardness', 'Solids', 'Chloramines', 'Sulfate', 'Conductivity', 'Organic_carbon', 'Trihalomethanes', 'Turbidity']\n",
    "    \n",
    "    for col in feature_names:\n",
    "        user_input[col] = float(input(f'Enter value for {col}: '))\n",
    "    \n",
    "    df_input = pd.DataFrame([user_input], columns=feature_names)\n",
    "    df_input_scaled = scaler.transform(df_input)\n",
    "    prediction_proba = model.predict_proba(df_input_scaled)[0]\n",
    "    \n",
    "    # Dynamically adj2usting the confidence threshold\n",
    "    if prediction_proba[1] > 0.6:\n",
    "        prediction = 1  # Safe\n",
    "    elif prediction_proba[0] > 0.6:\n",
    "        prediction = 0  # Not Safe\n",
    "    else:\n",
    "        prediction = 1 if prediction_proba[1] > prediction_proba[0] else 0  # Choose the higher probability\n",
    "    \n",
    "    print(f'Predicted Potability: {\"Safe\" if prediction == 1 else \"Not Safe\"} (Confidence: {max(prediction_proba):.2f})')\n",
    "\n",
    "if __name__ == \"__main__\":\n",
    "    df = load_and_preprocess_data()\n",
    "    model, scaler = train_model(df)\n",
    "    predict_water_quality(model, scaler)"
   ]
  },
  {
   "cell_type": "code",
   "execution_count": 122,
   "id": "2375f249",
   "metadata": {},
   "outputs": [],
   "source": [
    "# For not safe\n",
    "# Enter value for ph: 7.2  \n",
    "# Enter value for Hardness: 180  \n",
    "# Enter value for Solids: 15000  \n",
    "# Enter value for Chloramines: 6.5  \n",
    "# Enter value for Sulfate: 350  \n",
    "# Enter value for Conductivity: 400  \n",
    "# Enter value for Organic_carbon: 10  \n",
    "# Enter value for Trihalomethanes: 75  \n",
    "# Enter value for Turbidity: 3  \n"
   ]
  },
  {
   "cell_type": "code",
   "execution_count": 123,
   "id": "73ac77d8",
   "metadata": {},
   "outputs": [],
   "source": [
    "# for safe\n",
    "# Enter value for ph: 3.5  \n",
    "# Enter value for Hardness: 50  \n",
    "# Enter value for Solids: 50000  \n",
    "# Enter value for Chloramines: 12  \n",
    "# Enter value for Sulfate: 100  \n",
    "# Enter value for Conductivity: 800  \n",
    "# Enter value for Organic_carbon: 50  \n",
    "# Enter value for Trihalomethanes: 150  \n",
    "# Enter value for Turbidity: 10  \n"
   ]
  },
  {
   "cell_type": "code",
   "execution_count": null,
   "id": "f5cb909a",
   "metadata": {},
   "outputs": [],
   "source": []
  }
 ],
 "metadata": {
  "kaggle": {
   "accelerator": "none",
   "dataSources": [
    {
     "datasetId": 1292407,
     "sourceId": 2157486,
     "sourceType": "datasetVersion"
    }
   ],
   "dockerImageVersionId": 30626,
   "isGpuEnabled": false,
   "isInternetEnabled": true,
   "language": "python",
   "sourceType": "notebook"
  },
  "kernelspec": {
   "display_name": "Python 3",
   "language": "python",
   "name": "python3"
  },
  "language_info": {
   "codemirror_mode": {
    "name": "ipython",
    "version": 3
   },
   "file_extension": ".py",
   "mimetype": "text/x-python",
   "name": "python",
   "nbconvert_exporter": "python",
   "pygments_lexer": "ipython3",
   "version": "3.11.0"
  },
  "papermill": {
   "default_parameters": {},
   "duration": 66.052917,
   "end_time": "2024-01-08T12:21:50.720425",
   "environment_variables": {},
   "exception": null,
   "input_path": "__notebook__.ipynb",
   "output_path": "__notebook__.ipynb",
   "parameters": {},
   "start_time": "2024-01-08T12:20:44.667508",
   "version": "2.4.0"
  }
 },
 "nbformat": 4,
 "nbformat_minor": 5
}
